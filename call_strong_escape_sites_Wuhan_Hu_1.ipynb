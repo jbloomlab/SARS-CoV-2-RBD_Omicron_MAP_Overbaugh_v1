{
 "cells": [
  {
   "cell_type": "markdown",
   "metadata": {},
   "source": [
    "# Call sites of \"strong escape\"\n",
    "This Python Jupyter notebook call sites of srong escape from each antibody / sera"
   ]
  },
  {
   "cell_type": "markdown",
   "metadata": {},
   "source": [
    "Import Python modules:"
   ]
  },
  {
   "cell_type": "code",
   "execution_count": 1,
   "metadata": {
    "execution": {
     "iopub.execute_input": "2022-11-26T23:04:48.987147Z",
     "iopub.status.busy": "2022-11-26T23:04:48.986593Z",
     "iopub.status.idle": "2022-11-26T23:04:51.381764Z",
     "shell.execute_reply": "2022-11-26T23:04:51.381053Z"
    }
   },
   "outputs": [],
   "source": [
    "import os\n",
    "\n",
    "from dms_variants.constants import CBPALETTE\n",
    "\n",
    "from IPython.display import display, HTML\n",
    "\n",
    "import pandas as pd\n",
    "\n",
    "from plotnine import *\n",
    "\n",
    "import yaml"
   ]
  },
  {
   "cell_type": "markdown",
   "metadata": {},
   "source": [
    "Versions of key software:"
   ]
  },
  {
   "cell_type": "markdown",
   "metadata": {},
   "source": [
    "Read the configuration file:"
   ]
  },
  {
   "cell_type": "code",
   "execution_count": 2,
   "metadata": {
    "execution": {
     "iopub.execute_input": "2022-11-26T23:04:51.387485Z",
     "iopub.status.busy": "2022-11-26T23:04:51.386073Z",
     "iopub.status.idle": "2022-11-26T23:04:51.407149Z",
     "shell.execute_reply": "2022-11-26T23:04:51.406577Z"
    }
   },
   "outputs": [],
   "source": [
    "with open('config.yaml') as f:\n",
    "    config = yaml.safe_load(f)"
   ]
  },
  {
   "cell_type": "markdown",
   "metadata": {},
   "source": [
    "Create output directory:"
   ]
  },
  {
   "cell_type": "code",
   "execution_count": 3,
   "metadata": {
    "execution": {
     "iopub.execute_input": "2022-11-26T23:04:51.439303Z",
     "iopub.status.busy": "2022-11-26T23:04:51.436721Z",
     "iopub.status.idle": "2022-11-26T23:04:51.445522Z",
     "shell.execute_reply": "2022-11-26T23:04:51.444842Z"
    }
   },
   "outputs": [],
   "source": [
    "os.makedirs(config['escape_profiles_dir_Wuhan_Hu_1'], exist_ok=True)"
   ]
  },
  {
   "cell_type": "markdown",
   "metadata": {},
   "source": [
    "Extract from configuration what we will use as the site- and mutation-level metrics:"
   ]
  },
  {
   "cell_type": "code",
   "execution_count": 4,
   "metadata": {
    "execution": {
     "iopub.execute_input": "2022-11-26T23:04:51.451624Z",
     "iopub.status.busy": "2022-11-26T23:04:51.450289Z",
     "iopub.status.idle": "2022-11-26T23:04:51.475193Z",
     "shell.execute_reply": "2022-11-26T23:04:51.474483Z"
    }
   },
   "outputs": [
    {
     "name": "stdout",
     "output_type": "stream",
     "text": [
      "At site level, quantifying selection by site_total_escape_frac_single_mut\n",
      "At mutation level, quantify selection by mut_escape_frac_single_mut\n"
     ]
    }
   ],
   "source": [
    "site_metric = config['site_metric']\n",
    "mut_metric = config['mut_metric']\n",
    "\n",
    "print(f\"At site level, quantifying selection by {site_metric}\")\n",
    "print(f\"At mutation level, quantify selection by {mut_metric}\")"
   ]
  },
  {
   "cell_type": "markdown",
   "metadata": {},
   "source": [
    "Read the escape fractions.\n",
    "We only retain the **average** of the libraries for plotting here, not the individual libraries.\n",
    "Also, we work in the full-Spike rather than RBD numbering, which means we use `label_site` as `site` (and so rename as such below):"
   ]
  },
  {
   "cell_type": "code",
   "execution_count": 5,
   "metadata": {
    "execution": {
     "iopub.execute_input": "2022-11-26T23:04:51.484964Z",
     "iopub.status.busy": "2022-11-26T23:04:51.484656Z",
     "iopub.status.idle": "2022-11-26T23:04:51.536195Z",
     "shell.execute_reply": "2022-11-26T23:04:51.535636Z"
    }
   },
   "outputs": [
    {
     "name": "stdout",
     "output_type": "stream",
     "text": [
      "Reading escape fractions from results/escape_scores/escape_fracs_Wuhan_Hu_1.csv\n",
      "First few lines of escape-fraction data frame with sample-information added:\n"
     ]
    },
    {
     "data": {
      "text/html": [
       "<table border=\"1\" class=\"dataframe\">\n",
       "  <thead>\n",
       "    <tr style=\"text-align: right;\">\n",
       "      <th>condition</th>\n",
       "      <th>site</th>\n",
       "      <th>wildtype</th>\n",
       "      <th>mutation</th>\n",
       "      <th>protein_chain</th>\n",
       "      <th>protein_site</th>\n",
       "      <th>mut_escape_frac_single_mut</th>\n",
       "      <th>site_total_escape_frac_single_mut</th>\n",
       "      <th>site_avg_escape_frac_single_mut</th>\n",
       "      <th>nlibs</th>\n",
       "      <th>n_single_mut_measurements</th>\n",
       "    </tr>\n",
       "  </thead>\n",
       "  <tbody>\n",
       "    <tr>\n",
       "      <td>268C13_796</td>\n",
       "      <td>331</td>\n",
       "      <td>N</td>\n",
       "      <td>A</td>\n",
       "      <td>E</td>\n",
       "      <td>331</td>\n",
       "      <td>0.001758</td>\n",
       "      <td>0.2141</td>\n",
       "      <td>0.01259</td>\n",
       "      <td>1</td>\n",
       "      <td>2</td>\n",
       "    </tr>\n",
       "    <tr>\n",
       "      <td>268C13_796</td>\n",
       "      <td>331</td>\n",
       "      <td>N</td>\n",
       "      <td>C</td>\n",
       "      <td>E</td>\n",
       "      <td>331</td>\n",
       "      <td>0.010730</td>\n",
       "      <td>0.2141</td>\n",
       "      <td>0.01259</td>\n",
       "      <td>1</td>\n",
       "      <td>4</td>\n",
       "    </tr>\n",
       "    <tr>\n",
       "      <td>268C13_796</td>\n",
       "      <td>331</td>\n",
       "      <td>N</td>\n",
       "      <td>D</td>\n",
       "      <td>E</td>\n",
       "      <td>331</td>\n",
       "      <td>0.001664</td>\n",
       "      <td>0.2141</td>\n",
       "      <td>0.01259</td>\n",
       "      <td>2</td>\n",
       "      <td>5</td>\n",
       "    </tr>\n",
       "    <tr>\n",
       "      <td>268C13_796</td>\n",
       "      <td>331</td>\n",
       "      <td>N</td>\n",
       "      <td>E</td>\n",
       "      <td>E</td>\n",
       "      <td>331</td>\n",
       "      <td>0.001905</td>\n",
       "      <td>0.2141</td>\n",
       "      <td>0.01259</td>\n",
       "      <td>2</td>\n",
       "      <td>6</td>\n",
       "    </tr>\n",
       "    <tr>\n",
       "      <td>268C13_796</td>\n",
       "      <td>331</td>\n",
       "      <td>N</td>\n",
       "      <td>F</td>\n",
       "      <td>E</td>\n",
       "      <td>331</td>\n",
       "      <td>0.140600</td>\n",
       "      <td>0.2141</td>\n",
       "      <td>0.01259</td>\n",
       "      <td>1</td>\n",
       "      <td>4</td>\n",
       "    </tr>\n",
       "  </tbody>\n",
       "</table>"
      ],
      "text/plain": [
       "<IPython.core.display.HTML object>"
      ]
     },
     "metadata": {},
     "output_type": "display_data"
    }
   ],
   "source": [
    "print(f\"Reading escape fractions from {config['escape_fracs_Wuhan_Hu_1']}\")\n",
    "escape_fracs = (pd.read_csv(config['escape_fracs_Wuhan_Hu_1'])\n",
    "                .query('library == \"average\"')\n",
    "                .drop(columns=['site', 'selection', 'library'])\n",
    "                .rename(columns={'label_site': 'site'})\n",
    "                )\n",
    "print('First few lines of escape-fraction data frame with sample-information added:')\n",
    "display(HTML(escape_fracs.head().to_html(index=False)))"
   ]
  },
  {
   "cell_type": "markdown",
   "metadata": {},
   "source": [
    "Now identify sites of \"strong\" selection using three criteria for each threshold.\n",
    "\n",
    " 1. The selection at a site has to exceed the median selection across all sites for that condition (e.g., antibody or sera) by some threshold.\n",
    " \n",
    " 2. The selection at a site has to be greater than some fraction of the maximum selection observed at any site for that condition (e.g., antibody or sera).\n",
    " \n",
    " 3. The selection at a site has to exceed some absolute minimum."
   ]
  },
  {
   "cell_type": "code",
   "execution_count": 6,
   "metadata": {
    "execution": {
     "iopub.execute_input": "2022-11-26T23:04:51.540763Z",
     "iopub.status.busy": "2022-11-26T23:04:51.539675Z",
     "iopub.status.idle": "2022-11-26T23:04:52.181406Z",
     "shell.execute_reply": "2022-11-26T23:04:52.180787Z"
    }
   },
   "outputs": [
    {
     "name": "stdout",
     "output_type": "stream",
     "text": [
      "\n",
      "Calling sites of strong escape for the default calling parameters:\n",
      "Here are criteria used to call sites of strong escape for the default params:\n",
      "  1. Selection at site exceeds median by >10 fold\n",
      "  2. Selection at site is >0.1 of the max for any site\n",
      "  3. Selection at site is >0\n",
      "\n",
      "Calling sites of strong escape for the sensitive calling parameters:\n",
      "Here are criteria used to call sites of strong escape for the sensitive params:\n",
      "  1. Selection at site exceeds median by >5 fold\n",
      "  2. Selection at site is >0.05 of the max for any site\n",
      "  3. Selection at site is >0\n",
      "\n",
      "Calling sites of strong escape for the sensitive_max_mut calling parameters:\n",
      "Here are criteria used to call sites of strong escape for the sensitive_max_mut params:\n",
      "  1. Selection at site exceeds median by >5 fold\n",
      "  2. Selection at site is >0.05 of the max for any site\n",
      "  3. Selection at site is >0\n",
      "Sites are also called as significant if they have **any** mutation with escape fraction > 0.5\n"
     ]
    },
    {
     "name": "stderr",
     "output_type": "stream",
     "text": [
      "/loc/scratch/4614963/ipykernel_6023/821032434.py:21: FutureWarning: The frame.append method is deprecated and will be removed from pandas in a future version. Use pandas.concat instead.\n",
      "/loc/scratch/4614963/ipykernel_6023/821032434.py:21: FutureWarning: The frame.append method is deprecated and will be removed from pandas in a future version. Use pandas.concat instead.\n",
      "/loc/scratch/4614963/ipykernel_6023/821032434.py:21: FutureWarning: The frame.append method is deprecated and will be removed from pandas in a future version. Use pandas.concat instead.\n"
     ]
    }
   ],
   "source": [
    "site_threshold_df = pd.DataFrame()\n",
    "\n",
    "for threshold, params in config['strong_escape_sites_calling_params'].items():\n",
    "    print(f\"\\nCalling sites of strong escape for the {threshold} calling parameters:\")\n",
    "    \n",
    "    exceed_median = params['exceed_median']\n",
    "    frac_max = params['frac_max']\n",
    "    min_value = params['min_value']\n",
    "\n",
    "    print(f\"Here are criteria used to call sites of strong escape for the {threshold} params:\\n\"\n",
    "          f\"  1. Selection at site exceeds median by >{exceed_median} fold\\n\"\n",
    "          f\"  2. Selection at site is >{frac_max} of the max for any site\\n\"\n",
    "          f\"  3. Selection at site is >{min_value}\")\n",
    "    \n",
    "    if 'min_value_mut' in params:\n",
    "        min_value_mut = params['min_value_mut']\n",
    "        print(f\"Sites are also called as significant if they have **any** mutation with escape fraction > {min_value_mut}\")\n",
    "    else:\n",
    "        min_value_mut = None\n",
    "    \n",
    "    site_threshold_df = site_threshold_df.append(\n",
    "        escape_fracs\n",
    "        .assign(max_mut=lambda x: x.groupby(['condition', 'site'])[mut_metric].transform('max'))\n",
    "        [['condition', 'site', site_metric, 'max_mut']]\n",
    "        .drop_duplicates()\n",
    "        .assign(\n",
    "            threshold=threshold,\n",
    "            median=lambda x: x.groupby('condition')[site_metric].transform('median'),\n",
    "            max=lambda x: x.groupby('condition')[site_metric].transform('max'),\n",
    "            exceed_median=lambda x: x['median'] * exceed_median,\n",
    "            meet_exceed_median=lambda x: x[site_metric] > x['exceed_median'],\n",
    "            frac_max=lambda x: x['max'] * frac_max,\n",
    "            meet_frac_max=lambda x: x[site_metric] > x['frac_max'],\n",
    "            min_value=lambda x: min_value,\n",
    "            meet_min_value=lambda x: x[site_metric] > x['min_value'],\n",
    "            meet_mut_min_value=lambda x: False if min_value_mut is None else x['max_mut'] > min_value_mut,\n",
    "            strong_site=lambda x: (x['meet_exceed_median'] & x['meet_frac_max'] & x['meet_min_value']) | x['meet_mut_min_value'],\n",
    "            n_strong_sites=lambda x: x.groupby('condition')['strong_site'].transform('sum'),\n",
    "            )\n",
    "        )\n",
    "                    \n",
    "# orders for plotting\n",
    "site_threshold_df = (\n",
    "        site_threshold_df\n",
    "        .assign(condition=lambda x: pd.Categorical(x['condition'],\n",
    "                                                   reversed(x['condition'].unique()),\n",
    "                                                   ordered=True),\n",
    "                )\n",
    "        )"
   ]
  },
  {
   "cell_type": "markdown",
   "metadata": {},
   "source": [
    "Now plot the selection for all sites for all conditions, indicating which sites are strong escape and using lines to draw the three thresholds:"
   ]
  },
  {
   "cell_type": "code",
   "execution_count": 7,
   "metadata": {
    "execution": {
     "iopub.execute_input": "2022-11-26T23:04:52.186048Z",
     "iopub.status.busy": "2022-11-26T23:04:52.184888Z",
     "iopub.status.idle": "2022-11-26T23:04:53.196237Z",
     "shell.execute_reply": "2022-11-26T23:04:53.195614Z"
    }
   },
   "outputs": [
    {
     "name": "stderr",
     "output_type": "stream",
     "text": [
      "/fh/fast/bloom_j/computational_notebooks/tstarr/2022/SARS-CoV-2-RBD_Omicron_MAP_Overbaugh/env/lib/python3.8/site-packages/plotnine/utils.py:371: FutureWarning: The frame.append method is deprecated and will be removed from pandas in a future version. Use pandas.concat instead.\n",
      "/fh/fast/bloom_j/computational_notebooks/tstarr/2022/SARS-CoV-2-RBD_Omicron_MAP_Overbaugh/env/lib/python3.8/site-packages/plotnine/facets/facet.py:487: FutureWarning: Passing a set as an indexer is deprecated and will raise in a future version. Use a list instead.\n",
      "/fh/fast/bloom_j/computational_notebooks/tstarr/2022/SARS-CoV-2-RBD_Omicron_MAP_Overbaugh/env/lib/python3.8/site-packages/plotnine/utils.py:371: FutureWarning: The frame.append method is deprecated and will be removed from pandas in a future version. Use pandas.concat instead.\n",
      "/fh/fast/bloom_j/computational_notebooks/tstarr/2022/SARS-CoV-2-RBD_Omicron_MAP_Overbaugh/env/lib/python3.8/site-packages/plotnine/utils.py:371: FutureWarning: The frame.append method is deprecated and will be removed from pandas in a future version. Use pandas.concat instead.\n",
      "/fh/fast/bloom_j/computational_notebooks/tstarr/2022/SARS-CoV-2-RBD_Omicron_MAP_Overbaugh/env/lib/python3.8/site-packages/plotnine/utils.py:371: FutureWarning: The frame.append method is deprecated and will be removed from pandas in a future version. Use pandas.concat instead.\n"
     ]
    },
    {
     "data": {
      "image/png": "[encoded data removed]",
      "text/plain": [
       "<Figure size 432x288 with 3 Axes>"
      ]
     },
     "metadata": {},
     "output_type": "display_data"
    }
   ],
   "source": [
    "max_sel = site_threshold_df[site_metric].max()  # max y-value plotted\n",
    "\n",
    "p = (ggplot(site_threshold_df.assign(alpha=lambda x: x['strong_site'].astype(int))) +\n",
    "     aes(site_metric, 'condition', alpha='alpha', fill='strong_site') +\n",
    "     geom_jitter(size=2.5, height=0.1, width=0, stroke=0, random_state=1) +\n",
    "     scale_fill_manual(values=CBPALETTE) +\n",
    "     scale_alpha(range=(0.15, 0.5), guide=None) +\n",
    "     theme(figure_size=(4 * site_threshold_df['threshold'].nunique(),\n",
    "                        0.25 * site_threshold_df['condition'].nunique()),\n",
    "           legend_position='top',\n",
    "           ) +\n",
    "     xlab('site-level selection') +\n",
    "     expand_limits(x=1.2 * max_sel) +\n",
    "     geom_text(data=site_threshold_df[['condition', 'threshold', 'n_strong_sites']].drop_duplicates(),\n",
    "               mapping=aes(y='condition', label='n_strong_sites'),\n",
    "               inherit_aes=False,\n",
    "               x=1.1 * max_sel,\n",
    "               color=CBPALETTE[1],\n",
    "               alpha=1,\n",
    "               size=8,\n",
    "               ha='left',\n",
    "               va='center',\n",
    "               ) +\n",
    "     geom_linerange(data=site_threshold_df\n",
    "                         .melt(id_vars=['condition', 'threshold'],\n",
    "                               value_vars=['exceed_median', 'frac_max', 'min_value'],\n",
    "                               var_name='threshold_type',\n",
    "                               value_name='threshold_line')\n",
    "                         .reset_index()\n",
    "                         .drop_duplicates()\n",
    "                         .assign(ymin=lambda x: x['condition'].cat.codes + 1 - 0.3,\n",
    "                                 ymax=lambda x: x['condition'].cat.codes + 1 + 0.3),\n",
    "                   mapping=aes(x='threshold_line', ymin='ymin', ymax='ymax', color='threshold_type'),\n",
    "                   inherit_aes=False,\n",
    "                   size=0.1) +\n",
    "     scale_color_manual(values=CBPALETTE[2: ]) +\n",
    "     facet_wrap('~ threshold', nrow=1)\n",
    "     )\n",
    "\n",
    "_ = p.draw()"
   ]
  },
  {
   "cell_type": "markdown",
   "metadata": {},
   "source": [
    "Now get the strong sites for each condition, and write to a CSV file:"
   ]
  },
  {
   "cell_type": "code",
   "execution_count": 8,
   "metadata": {
    "execution": {
     "iopub.execute_input": "2022-11-26T23:04:53.201393Z",
     "iopub.status.busy": "2022-11-26T23:04:53.200141Z",
     "iopub.status.idle": "2022-11-26T23:04:53.229575Z",
     "shell.execute_reply": "2022-11-26T23:04:53.229058Z"
    }
   },
   "outputs": [
    {
     "name": "stdout",
     "output_type": "stream",
     "text": [
      "Number of sites of strong escape for each threshold:\n"
     ]
    },
    {
     "data": {
      "text/html": [
       "<table border=\"1\" class=\"dataframe\">\n",
       "  <thead>\n",
       "    <tr style=\"text-align: right;\">\n",
       "      <th></th>\n",
       "      <th>n_sites</th>\n",
       "    </tr>\n",
       "    <tr>\n",
       "      <th>threshold</th>\n",
       "      <th></th>\n",
       "    </tr>\n",
       "  </thead>\n",
       "  <tbody>\n",
       "    <tr>\n",
       "      <th>default</th>\n",
       "      <td>20</td>\n",
       "    </tr>\n",
       "    <tr>\n",
       "      <th>sensitive</th>\n",
       "      <td>38</td>\n",
       "    </tr>\n",
       "    <tr>\n",
       "      <th>sensitive_max_mut</th>\n",
       "      <td>44</td>\n",
       "    </tr>\n",
       "  </tbody>\n",
       "</table>"
      ],
      "text/plain": [
       "<IPython.core.display.HTML object>"
      ]
     },
     "metadata": {},
     "output_type": "display_data"
    },
    {
     "name": "stdout",
     "output_type": "stream",
     "text": [
      "Writing to results/escape_profiles/strong_escape_sites_Wuhan_Hu_1.csv, and printing the first few lines below:\n"
     ]
    },
    {
     "data": {
      "text/html": [
       "<table border=\"1\" class=\"dataframe\">\n",
       "  <thead>\n",
       "    <tr style=\"text-align: right;\">\n",
       "      <th></th>\n",
       "      <th>condition</th>\n",
       "      <th>site</th>\n",
       "      <th>site_total_escape_frac_single_mut</th>\n",
       "      <th>max_mut</th>\n",
       "      <th>threshold</th>\n",
       "      <th>median</th>\n",
       "      <th>max</th>\n",
       "      <th>exceed_median</th>\n",
       "      <th>meet_exceed_median</th>\n",
       "      <th>frac_max</th>\n",
       "      <th>meet_frac_max</th>\n",
       "      <th>min_value</th>\n",
       "      <th>meet_min_value</th>\n",
       "      <th>meet_mut_min_value</th>\n",
       "      <th>strong_site</th>\n",
       "      <th>n_strong_sites</th>\n",
       "    </tr>\n",
       "  </thead>\n",
       "  <tbody>\n",
       "    <tr>\n",
       "      <th>0</th>\n",
       "      <td>268C13_796</td>\n",
       "      <td>339</td>\n",
       "      <td>5.248</td>\n",
       "      <td>0.7554</td>\n",
       "      <td>default</td>\n",
       "      <td>0.25565</td>\n",
       "      <td>11.92</td>\n",
       "      <td>2.5565</td>\n",
       "      <td>True</td>\n",
       "      <td>1.192</td>\n",
       "      <td>True</td>\n",
       "      <td>0</td>\n",
       "      <td>True</td>\n",
       "      <td>False</td>\n",
       "      <td>True</td>\n",
       "      <td>15</td>\n",
       "    </tr>\n",
       "    <tr>\n",
       "      <th>1</th>\n",
       "      <td>268C13_796</td>\n",
       "      <td>340</td>\n",
       "      <td>4.326</td>\n",
       "      <td>0.5425</td>\n",
       "      <td>default</td>\n",
       "      <td>0.25565</td>\n",
       "      <td>11.92</td>\n",
       "      <td>2.5565</td>\n",
       "      <td>True</td>\n",
       "      <td>1.192</td>\n",
       "      <td>True</td>\n",
       "      <td>0</td>\n",
       "      <td>True</td>\n",
       "      <td>False</td>\n",
       "      <td>True</td>\n",
       "      <td>15</td>\n",
       "    </tr>\n",
       "    <tr>\n",
       "      <th>2</th>\n",
       "      <td>268C13_796</td>\n",
       "      <td>341</td>\n",
       "      <td>2.893</td>\n",
       "      <td>0.6374</td>\n",
       "      <td>default</td>\n",
       "      <td>0.25565</td>\n",
       "      <td>11.92</td>\n",
       "      <td>2.5565</td>\n",
       "      <td>True</td>\n",
       "      <td>1.192</td>\n",
       "      <td>True</td>\n",
       "      <td>0</td>\n",
       "      <td>True</td>\n",
       "      <td>False</td>\n",
       "      <td>True</td>\n",
       "      <td>15</td>\n",
       "    </tr>\n",
       "    <tr>\n",
       "      <th>3</th>\n",
       "      <td>268C13_796</td>\n",
       "      <td>345</td>\n",
       "      <td>10.420</td>\n",
       "      <td>0.7206</td>\n",
       "      <td>default</td>\n",
       "      <td>0.25565</td>\n",
       "      <td>11.92</td>\n",
       "      <td>2.5565</td>\n",
       "      <td>True</td>\n",
       "      <td>1.192</td>\n",
       "      <td>True</td>\n",
       "      <td>0</td>\n",
       "      <td>True</td>\n",
       "      <td>False</td>\n",
       "      <td>True</td>\n",
       "      <td>15</td>\n",
       "    </tr>\n",
       "    <tr>\n",
       "      <th>4</th>\n",
       "      <td>268C13_796</td>\n",
       "      <td>346</td>\n",
       "      <td>9.850</td>\n",
       "      <td>0.6832</td>\n",
       "      <td>default</td>\n",
       "      <td>0.25565</td>\n",
       "      <td>11.92</td>\n",
       "      <td>2.5565</td>\n",
       "      <td>True</td>\n",
       "      <td>1.192</td>\n",
       "      <td>True</td>\n",
       "      <td>0</td>\n",
       "      <td>True</td>\n",
       "      <td>False</td>\n",
       "      <td>True</td>\n",
       "      <td>15</td>\n",
       "    </tr>\n",
       "  </tbody>\n",
       "</table>"
      ],
      "text/plain": [
       "<IPython.core.display.HTML object>"
      ]
     },
     "metadata": {},
     "output_type": "display_data"
    }
   ],
   "source": [
    "strong_sites = site_threshold_df.query('strong_site').reset_index(drop=True)\n",
    "\n",
    "print('Number of sites of strong escape for each threshold:')\n",
    "display(HTML(\n",
    "    strong_sites\n",
    "    .groupby('threshold')\n",
    "    .aggregate(n_sites=pd.NamedAgg('site', 'nunique'))\n",
    "    .to_html()\n",
    "    ))\n",
    "\n",
    "print(f\"Writing to {config['strong_escape_sites_Wuhan_Hu_1']}, and printing the first few lines below:\")\n",
    "display(HTML(strong_sites.head().to_html()))\n",
    "\n",
    "strong_sites.to_csv(config['strong_escape_sites_Wuhan_Hu_1'], index=False)"
   ]
  },
  {
   "cell_type": "markdown",
   "metadata": {},
   "source": [
    "Plot which sites are auto-identified for each condition (e.g., antibody or sera):"
   ]
  },
  {
   "cell_type": "code",
   "execution_count": 9,
   "metadata": {
    "execution": {
     "iopub.execute_input": "2022-11-26T23:04:53.233917Z",
     "iopub.status.busy": "2022-11-26T23:04:53.232765Z",
     "iopub.status.idle": "2022-11-26T23:04:53.944687Z",
     "shell.execute_reply": "2022-11-26T23:04:53.944193Z"
    }
   },
   "outputs": [
    {
     "name": "stderr",
     "output_type": "stream",
     "text": [
      "/fh/fast/bloom_j/computational_notebooks/tstarr/2022/SARS-CoV-2-RBD_Omicron_MAP_Overbaugh/env/lib/python3.8/site-packages/plotnine/utils.py:371: FutureWarning: The frame.append method is deprecated and will be removed from pandas in a future version. Use pandas.concat instead.\n"
     ]
    },
    {
     "data": {
      "image/png": "[encoded data removed]",
      "text/plain": [
       "<Figure size 792x180 with 3 Axes>"
      ]
     },
     "metadata": {},
     "output_type": "display_data"
    }
   ],
   "source": [
    "p = (ggplot(strong_sites\n",
    "            .assign(site=lambda x: pd.Categorical(x['site'],  # categorical so only plot observed sites\n",
    "                                                  sorted(x['site'].unique()),\n",
    "                                                  ordered=True)\n",
    "                    )\n",
    "            ) +\n",
    "     aes('site', 'condition') +\n",
    "     geom_tile() +\n",
    "     theme(axis_text_x=element_text(angle=90),\n",
    "           figure_size=(0.18 * strong_sites['site'].nunique(),\n",
    "                        0.2 * strong_sites['condition'].nunique() * strong_sites['threshold'].nunique()),\n",
    "           ) +\n",
    "     facet_wrap('~ threshold', ncol=1)\n",
    "     )\n",
    "\n",
    "_ = p.draw()"
   ]
  },
  {
   "cell_type": "code",
   "execution_count": null,
   "metadata": {},
   "outputs": [],
   "source": []
  }
 ],
 "metadata": {
  "kernelspec": {
   "display_name": "Python 3 (ipykernel)",
   "language": "python",
   "name": "python3"
  },
  "language_info": {
   "codemirror_mode": {
    "name": "ipython",
    "version": 3
   },
   "file_extension": ".py",
   "mimetype": "text/x-python",
   "name": "python",
   "nbconvert_exporter": "python",
   "pygments_lexer": "ipython3",
   "version": "3.8.13"
  }
 },
 "nbformat": 4,
 "nbformat_minor": 4
}
