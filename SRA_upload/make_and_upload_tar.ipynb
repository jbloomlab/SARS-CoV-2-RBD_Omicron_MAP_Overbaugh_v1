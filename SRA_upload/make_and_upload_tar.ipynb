{
 "cells": [
  {
   "cell_type": "markdown",
   "metadata": {},
   "source": [
    "# Create TAR file of FASTQs and upload to SRA\n",
    "This Python Jupyter notebook creates a `*.tar` file of the FASTQs and uploads them to the SRA.\n",
    "\n",
    "First, import Python modules:"
   ]
  },
  {
   "cell_type": "code",
   "execution_count": 1,
   "metadata": {
    "execution": {
     "iopub.execute_input": "2023-04-26T18:55:31.463286Z",
     "iopub.status.busy": "2023-04-26T18:55:31.462421Z",
     "iopub.status.idle": "2023-04-26T18:55:33.355125Z",
     "shell.execute_reply": "2023-04-26T18:55:33.354332Z"
    }
   },
   "outputs": [],
   "source": [
    "import datetime\n",
    "import ftplib\n",
    "import os\n",
    "import tarfile\n",
    "\n",
    "import pandas as pd\n",
    "\n",
    "import yaml"
   ]
  },
  {
   "cell_type": "markdown",
   "metadata": {},
   "source": [
    "Read in the FASTQ files to upload:"
   ]
  },
  {
   "cell_type": "code",
   "execution_count": 2,
   "metadata": {
    "execution": {
     "iopub.execute_input": "2023-04-26T18:55:33.360719Z",
     "iopub.status.busy": "2023-04-26T18:55:33.359411Z",
     "iopub.status.idle": "2023-04-26T18:55:33.372011Z",
     "shell.execute_reply": "2023-04-26T18:55:33.371476Z"
    }
   },
   "outputs": [],
   "source": [
    "with open('upload_config.yaml') as f:\n",
    "    config = yaml.safe_load(f)\n",
    "    \n",
    "fastqs = pd.read_csv('FASTQs_to_upload.csv')"
   ]
  },
  {
   "cell_type": "markdown",
   "metadata": {},
   "source": [
    "Now we need to make a `*.tar` file with all of the files.\n",
    "Note that this step **will take a long time to run**."
   ]
  },
  {
   "cell_type": "code",
   "execution_count": 3,
   "metadata": {
    "execution": {
     "iopub.execute_input": "2023-04-26T18:55:33.376459Z",
     "iopub.status.busy": "2023-04-26T18:55:33.375421Z",
     "iopub.status.idle": "2023-04-26T18:56:23.777807Z",
     "shell.execute_reply": "2023-04-26T18:56:23.776621Z"
    }
   },
   "outputs": [
    {
     "name": "stdout",
     "output_type": "stream",
     "text": [
      "Adding file 1 of 34 to SRA_submission.tar\n",
      "Adding file 2 of 34 to SRA_submission.tar\n",
      "Adding file 3 of 34 to SRA_submission.tar\n",
      "Adding file 4 of 34 to SRA_submission.tar\n",
      "Adding file 5 of 34 to SRA_submission.tar\n",
      "Adding file 6 of 34 to SRA_submission.tar\n",
      "Adding file 7 of 34 to SRA_submission.tar\n",
      "Adding file 8 of 34 to SRA_submission.tar\n",
      "Adding file 9 of 34 to SRA_submission.tar\n",
      "Adding file 10 of 34 to SRA_submission.tar\n",
      "Adding file 11 of 34 to SRA_submission.tar\n",
      "Adding file 12 of 34 to SRA_submission.tar\n",
      "Adding file 13 of 34 to SRA_submission.tar\n",
      "Adding file 14 of 34 to SRA_submission.tar\n",
      "Adding file 15 of 34 to SRA_submission.tar\n",
      "Adding file 16 of 34 to SRA_submission.tar\n",
      "Adding file 17 of 34 to SRA_submission.tar\n",
      "Adding file 18 of 34 to SRA_submission.tar\n",
      "Adding file 19 of 34 to SRA_submission.tar\n",
      "Adding file 20 of 34 to SRA_submission.tar\n",
      "Adding file 21 of 34 to SRA_submission.tar\n",
      "Adding file 22 of 34 to SRA_submission.tar\n",
      "Adding file 23 of 34 to SRA_submission.tar\n",
      "Adding file 24 of 34 to SRA_submission.tar\n",
      "Adding file 25 of 34 to SRA_submission.tar\n",
      "Adding file 26 of 34 to SRA_submission.tar\n",
      "Adding file 27 of 34 to SRA_submission.tar\n",
      "Adding file 28 of 34 to SRA_submission.tar\n",
      "Adding file 29 of 34 to SRA_submission.tar\n",
      "Adding file 30 of 34 to SRA_submission.tar\n",
      "Adding file 31 of 34 to SRA_submission.tar\n",
      "Adding file 32 of 34 to SRA_submission.tar\n",
      "Adding file 33 of 34 to SRA_submission.tar\n",
      "Adding file 34 of 34 to SRA_submission.tar\n",
      "Added all files to SRA_submission.tar\n"
     ]
    }
   ],
   "source": [
    "tar_filename = 'SRA_submission.tar'\n",
    "\n",
    "try:\n",
    "    with tarfile.open(tar_filename, mode='w') as f:\n",
    "        for i, tup in enumerate(fastqs.itertuples()):\n",
    "            print(f\"Adding file {i + 1} of {len(fastqs)} to {tar_filename}\")\n",
    "            f.add(tup.filename_fullpath, arcname=tup.filename)\n",
    "        print(f\"Added all files to {tar_filename}\")\n",
    "except:\n",
    "    if os.path.isfile(tar_filename):\n",
    "        os.remove(tar_filename)\n",
    "    raise"
   ]
  },
  {
   "cell_type": "markdown",
   "metadata": {},
   "source": [
    "See the size of the `*.tar` file to upload and make sure it has the expected files:"
   ]
  },
  {
   "cell_type": "code",
   "execution_count": 4,
   "metadata": {
    "execution": {
     "iopub.execute_input": "2023-04-26T18:56:23.785646Z",
     "iopub.status.busy": "2023-04-26T18:56:23.784184Z",
     "iopub.status.idle": "2023-04-26T18:56:23.803855Z",
     "shell.execute_reply": "2023-04-26T18:56:23.803229Z"
    }
   },
   "outputs": [
    {
     "name": "stdout",
     "output_type": "stream",
     "text": [
      "The size of SRA_submission.tar is 7.6 GB\n",
      "SRA_submission.tar contains all 34 expected files.\n"
     ]
    }
   ],
   "source": [
    "print(f\"The size of {tar_filename} is {os.path.getsize(tar_filename) / 1e9:.1f} GB\")\n",
    "\n",
    "with tarfile.open(tar_filename) as f:\n",
    "    files_in_tar = set(f.getnames())\n",
    "if files_in_tar == set(fastqs['filename']):\n",
    "    print(f\"{tar_filename} contains all {len(files_in_tar)} expected files.\")\n",
    "else:\n",
    "    raise ValueError(f\"{tar_filename} does not have all the expected files.\")"
   ]
  },
  {
   "cell_type": "markdown",
   "metadata": {},
   "source": [
    "We now read in the details about doing the FTP upload to the SRA.\n",
    "Note that these are set in separate files already:"
   ]
  },
  {
   "cell_type": "code",
   "execution_count": 5,
   "metadata": {
    "execution": {
     "iopub.execute_input": "2023-04-26T18:56:23.808766Z",
     "iopub.status.busy": "2023-04-26T18:56:23.807625Z",
     "iopub.status.idle": "2023-04-26T18:56:23.814505Z",
     "shell.execute_reply": "2023-04-26T18:56:23.813929Z"
    }
   },
   "outputs": [],
   "source": [
    "# the following are provided by SRA wizard insturctions\n",
    "ftp_address = 'ftp-private.ncbi.nlm.nih.gov'\n",
    "ftp_username = config['ftp_username'].strip()\n",
    "ftp_account_folder = config['ftp_account_folder'].strip()\n",
    "ftp_subfolder = config['ftp_subfolder'].strip()\n",
    "with open('ftp_password.txt') as f:\n",
    "    ftp_password = f.read().strip()"
   ]
  },
  {
   "cell_type": "markdown",
   "metadata": {},
   "source": [
    "Now create FTP connection and upload the TAR file.\n",
    "Note that this takes a while.\n",
    "If you are worried that it will timeout given the size of your file, you can run this notebook via `slurm` so there is no timing out:"
   ]
  },
  {
   "cell_type": "code",
   "execution_count": 6,
   "metadata": {
    "execution": {
     "iopub.execute_input": "2023-04-26T18:56:23.819288Z",
     "iopub.status.busy": "2023-04-26T18:56:23.818101Z",
     "iopub.status.idle": "2023-04-26T19:34:24.697672Z",
     "shell.execute_reply": "2023-04-26T19:34:24.696236Z"
    }
   },
   "outputs": [
    {
     "name": "stdout",
     "output_type": "stream",
     "text": [
      "Starting upload at 2023-04-26 11:56:23.822271\n",
      "Finished upload at 2023-04-26 12:34:24.687696\n"
     ]
    }
   ],
   "source": [
    "print(f\"Starting upload at {datetime.datetime.now()}\")\n",
    "\n",
    "with ftplib.FTP(ftp_address) as ftp:\n",
    "    ftp.login(user=ftp_username,\n",
    "              passwd=ftp_password,\n",
    "              )\n",
    "    ftp.cwd(ftp_account_folder)\n",
    "    ftp.mkd(ftp_subfolder)\n",
    "    ftp.cwd(ftp_subfolder)\n",
    "    with open(tar_filename, 'rb') as f:\n",
    "        ftp.storbinary(f\"STOR {tar_filename}\", f)\n",
    "        \n",
    "print(f\"Finished upload at {datetime.datetime.now()}\")"
   ]
  },
  {
   "cell_type": "code",
   "execution_count": null,
   "metadata": {},
   "outputs": [],
   "source": []
  }
 ],
 "metadata": {
  "language_info": {
   "codemirror_mode": {
    "name": "ipython",
    "version": 3
   },
   "file_extension": ".py",
   "mimetype": "text/x-python",
   "name": "python",
   "nbconvert_exporter": "python",
   "pygments_lexer": "ipython3",
   "version": "3.8.13"
  }
 },
 "nbformat": 4,
 "nbformat_minor": 4
}
