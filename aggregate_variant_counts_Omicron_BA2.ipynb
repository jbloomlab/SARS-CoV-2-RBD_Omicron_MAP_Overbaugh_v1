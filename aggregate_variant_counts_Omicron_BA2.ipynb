{
 "cells": [
  {
   "cell_type": "markdown",
   "metadata": {},
   "source": [
    "# Aggregate variant counts for all samples\n",
    "Separate `Snakemake` rules count the observations of each variant in each sample from the Illumina barcode sequencing.\n",
    "This Python Jupyter notebook aggregates all of this counts, and then adds them to a codon variant table."
   ]
  },
  {
   "cell_type": "markdown",
   "metadata": {},
   "source": [
    "## Set up analysis\n",
    "### Import Python modules.\n",
    "Use [plotnine](https://plotnine.readthedocs.io/en/stable/) for ggplot2-like plotting.\n",
    "\n",
    "The analysis relies heavily on the Bloom lab's [dms_variants](https://jbloomlab.github.io/dms_variants) package:"
   ]
  },
  {
   "cell_type": "code",
   "execution_count": 1,
   "metadata": {
    "execution": {
     "iopub.execute_input": "2022-11-26T23:10:56.862815Z",
     "iopub.status.busy": "2022-11-26T23:10:56.860158Z",
     "iopub.status.idle": "2022-11-26T23:10:59.506586Z",
     "shell.execute_reply": "2022-11-26T23:10:59.505868Z"
    }
   },
   "outputs": [],
   "source": [
    "import glob\n",
    "import itertools\n",
    "import math\n",
    "import os\n",
    "import warnings\n",
    "\n",
    "import Bio.SeqIO\n",
    "\n",
    "import dms_variants.codonvarianttable\n",
    "from dms_variants.constants import CBPALETTE\n",
    "import dms_variants.utils\n",
    "import dms_variants.plotnine_themes\n",
    "\n",
    "from IPython.display import display, HTML\n",
    "\n",
    "import pandas as pd\n",
    "\n",
    "from plotnine import *\n",
    "\n",
    "import yaml"
   ]
  },
  {
   "cell_type": "markdown",
   "metadata": {},
   "source": [
    "Set [plotnine](https://plotnine.readthedocs.io/en/stable/) theme to the gray-grid one defined in `dms_variants`:"
   ]
  },
  {
   "cell_type": "code",
   "execution_count": 2,
   "metadata": {
    "execution": {
     "iopub.execute_input": "2022-11-26T23:10:59.512537Z",
     "iopub.status.busy": "2022-11-26T23:10:59.510980Z",
     "iopub.status.idle": "2022-11-26T23:10:59.517221Z",
     "shell.execute_reply": "2022-11-26T23:10:59.516649Z"
    }
   },
   "outputs": [],
   "source": [
    "theme_set(dms_variants.plotnine_themes.theme_graygrid())"
   ]
  },
  {
   "cell_type": "markdown",
   "metadata": {},
   "source": [
    "Versions of key software:"
   ]
  },
  {
   "cell_type": "code",
   "execution_count": 3,
   "metadata": {
    "execution": {
     "iopub.execute_input": "2022-11-26T23:10:59.521818Z",
     "iopub.status.busy": "2022-11-26T23:10:59.520710Z",
     "iopub.status.idle": "2022-11-26T23:10:59.526612Z",
     "shell.execute_reply": "2022-11-26T23:10:59.526045Z"
    }
   },
   "outputs": [
    {
     "name": "stdout",
     "output_type": "stream",
     "text": [
      "Using dms_variants version 0.8.10\n"
     ]
    }
   ],
   "source": [
    "print(f\"Using dms_variants version {dms_variants.__version__}\")"
   ]
  },
  {
   "cell_type": "markdown",
   "metadata": {},
   "source": [
    "Ignore warnings that clutter output:"
   ]
  },
  {
   "cell_type": "code",
   "execution_count": 4,
   "metadata": {
    "execution": {
     "iopub.execute_input": "2022-11-26T23:10:59.554468Z",
     "iopub.status.busy": "2022-11-26T23:10:59.554185Z",
     "iopub.status.idle": "2022-11-26T23:10:59.557304Z",
     "shell.execute_reply": "2022-11-26T23:10:59.556735Z"
    }
   },
   "outputs": [],
   "source": [
    "warnings.simplefilter('ignore')"
   ]
  },
  {
   "cell_type": "markdown",
   "metadata": {},
   "source": [
    "Read the configuration file:"
   ]
  },
  {
   "cell_type": "code",
   "execution_count": 5,
   "metadata": {
    "execution": {
     "iopub.execute_input": "2022-11-26T23:10:59.561065Z",
     "iopub.status.busy": "2022-11-26T23:10:59.560782Z",
     "iopub.status.idle": "2022-11-26T23:10:59.579952Z",
     "shell.execute_reply": "2022-11-26T23:10:59.579366Z"
    }
   },
   "outputs": [],
   "source": [
    "with open('config.yaml') as f:\n",
    "    config = yaml.safe_load(f)"
   ]
  },
  {
   "cell_type": "markdown",
   "metadata": {},
   "source": [
    "Make output directory if needed:"
   ]
  },
  {
   "cell_type": "code",
   "execution_count": 6,
   "metadata": {
    "execution": {
     "iopub.execute_input": "2022-11-26T23:10:59.584565Z",
     "iopub.status.busy": "2022-11-26T23:10:59.583454Z",
     "iopub.status.idle": "2022-11-26T23:10:59.588243Z",
     "shell.execute_reply": "2022-11-26T23:10:59.587701Z"
    }
   },
   "outputs": [],
   "source": [
    "os.makedirs(config['counts_dir_Omicron_BA2'], exist_ok=True)"
   ]
  },
  {
   "cell_type": "markdown",
   "metadata": {},
   "source": [
    "## Initialize codon variant table\n",
    "Initialize the [CodonVariantTable](https://jbloomlab.github.io/dms_variants/dms_variants.codonvarianttable.html#dms_variants.codonvarianttable.CodonVariantTable) using the wildtype gene sequence and the CSV file with the table of variants:"
   ]
  },
  {
   "cell_type": "code",
   "execution_count": 7,
   "metadata": {
    "execution": {
     "iopub.execute_input": "2022-11-26T23:10:59.625324Z",
     "iopub.status.busy": "2022-11-26T23:10:59.622744Z",
     "iopub.status.idle": "2022-11-26T23:11:03.610844Z",
     "shell.execute_reply": "2022-11-26T23:11:03.610273Z"
    }
   },
   "outputs": [
    {
     "name": "stdout",
     "output_type": "stream",
     "text": [
      "Read sequence of 603 nt for Omicron_BA2 from data/wildtype_sequence_Omicron_BA2.fasta\n",
      "Initializing CodonVariantTable from gene sequence and data/codon_variant_table_Omicron_BA2.csv\n"
     ]
    }
   ],
   "source": [
    "wt_seqrecord = Bio.SeqIO.read(config['wildtype_sequence_Omicron_BA2'], 'fasta')\n",
    "geneseq = str(wt_seqrecord.seq)\n",
    "primary_target = wt_seqrecord.name\n",
    "print(f\"Read sequence of {len(geneseq)} nt for {primary_target} from {config['wildtype_sequence_Omicron_BA2']}\")\n",
    "      \n",
    "print(f\"Initializing CodonVariantTable from gene sequence and {config['bc_variant_lookup_Omicron_BA2']}\")\n",
    "      \n",
    "variants = dms_variants.codonvarianttable.CodonVariantTable(\n",
    "                geneseq=geneseq,\n",
    "                barcode_variant_file=config['bc_variant_lookup_Omicron_BA2'],\n",
    "                substitutions_are_codon=True,\n",
    "                substitutions_col='codon_substitutions',\n",
    "                primary_target=primary_target)"
   ]
  },
  {
   "cell_type": "markdown",
   "metadata": {},
   "source": [
    "## Read barcode counts / fates\n",
    "Read data frame with list of all samples (barcode runs):"
   ]
  },
  {
   "cell_type": "code",
   "execution_count": 8,
   "metadata": {
    "execution": {
     "iopub.execute_input": "2022-11-26T23:11:03.615776Z",
     "iopub.status.busy": "2022-11-26T23:11:03.614609Z",
     "iopub.status.idle": "2022-11-26T23:11:03.646550Z",
     "shell.execute_reply": "2022-11-26T23:11:03.646012Z"
    }
   },
   "outputs": [
    {
     "name": "stdout",
     "output_type": "stream",
     "text": [
      "Reading list of barcode runs from data/barcode_runs_Omicron_BA2.csv\n"
     ]
    },
    {
     "data": {
      "text/html": [
       "<table border=\"1\" class=\"dataframe\">\n",
       "  <thead>\n",
       "    <tr style=\"text-align: right;\">\n",
       "      <th>date</th>\n",
       "      <th>experiment</th>\n",
       "      <th>target</th>\n",
       "      <th>library</th>\n",
       "      <th>antibody</th>\n",
       "      <th>concentration</th>\n",
       "      <th>sort_bin</th>\n",
       "      <th>selection</th>\n",
       "      <th>sample</th>\n",
       "      <th>experiment_type</th>\n",
       "      <th>number_cells</th>\n",
       "      <th>frac_escape</th>\n",
       "      <th>sample_lib</th>\n",
       "      <th>counts_file</th>\n",
       "      <th>fates_file</th>\n",
       "    </tr>\n",
       "  </thead>\n",
       "  <tbody>\n",
       "    <tr>\n",
       "      <td>220816</td>\n",
       "      <td>exptREF</td>\n",
       "      <td>Omicron_BA2</td>\n",
       "      <td>lib24</td>\n",
       "      <td>none</td>\n",
       "      <td>0</td>\n",
       "      <td>ref</td>\n",
       "      <td>reference</td>\n",
       "      <td>exptREF-none-0-ref</td>\n",
       "      <td>ab_selection</td>\n",
       "      <td>NaN</td>\n",
       "      <td>NaN</td>\n",
       "      <td>exptREF-none-0-ref_lib24</td>\n",
       "      <td>results/counts/Omicron_BA2/exptREF-none-0-ref_lib24_counts.csv</td>\n",
       "      <td>results/counts/Omicron_BA2/exptREF-none-0-ref_lib24_fates.csv</td>\n",
       "    </tr>\n",
       "    <tr>\n",
       "      <td>220816</td>\n",
       "      <td>exptREF</td>\n",
       "      <td>Omicron_BA2</td>\n",
       "      <td>lib25</td>\n",
       "      <td>none</td>\n",
       "      <td>0</td>\n",
       "      <td>ref</td>\n",
       "      <td>reference</td>\n",
       "      <td>exptREF-none-0-ref</td>\n",
       "      <td>ab_selection</td>\n",
       "      <td>NaN</td>\n",
       "      <td>NaN</td>\n",
       "      <td>exptREF-none-0-ref_lib25</td>\n",
       "      <td>results/counts/Omicron_BA2/exptREF-none-0-ref_lib25_counts.csv</td>\n",
       "      <td>results/counts/Omicron_BA2/exptREF-none-0-ref_lib25_fates.csv</td>\n",
       "    </tr>\n",
       "    <tr>\n",
       "      <td>220816</td>\n",
       "      <td>expt10</td>\n",
       "      <td>Omicron_BA2</td>\n",
       "      <td>lib24</td>\n",
       "      <td>268C3</td>\n",
       "      <td>180</td>\n",
       "      <td>abneg</td>\n",
       "      <td>escape</td>\n",
       "      <td>expt10-268C3-180-abneg</td>\n",
       "      <td>NaN</td>\n",
       "      <td>467769.0</td>\n",
       "      <td>0.136</td>\n",
       "      <td>expt10-268C3-180-abneg_lib24</td>\n",
       "      <td>results/counts/Omicron_BA2/expt10-268C3-180-abneg_lib24_counts.csv</td>\n",
       "      <td>results/counts/Omicron_BA2/expt10-268C3-180-abneg_lib24_fates.csv</td>\n",
       "    </tr>\n",
       "    <tr>\n",
       "      <td>220816</td>\n",
       "      <td>expt10</td>\n",
       "      <td>Omicron_BA2</td>\n",
       "      <td>lib25</td>\n",
       "      <td>268C3</td>\n",
       "      <td>180</td>\n",
       "      <td>abneg</td>\n",
       "      <td>escape</td>\n",
       "      <td>expt10-268C3-180-abneg</td>\n",
       "      <td>NaN</td>\n",
       "      <td>459335.0</td>\n",
       "      <td>0.135</td>\n",
       "      <td>expt10-268C3-180-abneg_lib25</td>\n",
       "      <td>results/counts/Omicron_BA2/expt10-268C3-180-abneg_lib25_counts.csv</td>\n",
       "      <td>results/counts/Omicron_BA2/expt10-268C3-180-abneg_lib25_fates.csv</td>\n",
       "    </tr>\n",
       "    <tr>\n",
       "      <td>220816</td>\n",
       "      <td>expt12</td>\n",
       "      <td>Omicron_BA2</td>\n",
       "      <td>lib24</td>\n",
       "      <td>268C61</td>\n",
       "      <td>98</td>\n",
       "      <td>abneg</td>\n",
       "      <td>escape</td>\n",
       "      <td>expt12-268C61-98-abneg</td>\n",
       "      <td>NaN</td>\n",
       "      <td>502055.0</td>\n",
       "      <td>0.146</td>\n",
       "      <td>expt12-268C61-98-abneg_lib24</td>\n",
       "      <td>results/counts/Omicron_BA2/expt12-268C61-98-abneg_lib24_counts.csv</td>\n",
       "      <td>results/counts/Omicron_BA2/expt12-268C61-98-abneg_lib24_fates.csv</td>\n",
       "    </tr>\n",
       "    <tr>\n",
       "      <td>220816</td>\n",
       "      <td>expt12</td>\n",
       "      <td>Omicron_BA2</td>\n",
       "      <td>lib25</td>\n",
       "      <td>268C61</td>\n",
       "      <td>98</td>\n",
       "      <td>abneg</td>\n",
       "      <td>escape</td>\n",
       "      <td>expt12-268C61-98-abneg</td>\n",
       "      <td>NaN</td>\n",
       "      <td>483520.0</td>\n",
       "      <td>0.138</td>\n",
       "      <td>expt12-268C61-98-abneg_lib25</td>\n",
       "      <td>results/counts/Omicron_BA2/expt12-268C61-98-abneg_lib25_counts.csv</td>\n",
       "      <td>results/counts/Omicron_BA2/expt12-268C61-98-abneg_lib25_fates.csv</td>\n",
       "    </tr>\n",
       "  </tbody>\n",
       "</table>"
      ],
      "text/plain": [
       "<IPython.core.display.HTML object>"
      ]
     },
     "metadata": {},
     "output_type": "display_data"
    }
   ],
   "source": [
    "print(f\"Reading list of barcode runs from {config['barcode_runs_Omicron_BA2']}\")\n",
    "\n",
    "barcode_runs = (pd.read_csv(config['barcode_runs_Omicron_BA2'])\n",
    "                .assign(sample_lib=lambda x: x['sample'] + '_' + x['library'],\n",
    "                        counts_file=lambda x: config['counts_dir_Omicron_BA2'] + '/' + x['sample_lib'] + '_counts.csv',\n",
    "                        fates_file=lambda x: config['counts_dir_Omicron_BA2'] + '/' + x['sample_lib'] + '_fates.csv',\n",
    "                        )\n",
    "                .drop(columns='R1')  # don't need this column, and very large\n",
    "                )\n",
    "\n",
    "assert all(map(os.path.isfile, barcode_runs['counts_file'])), 'missing some counts files'\n",
    "assert all(map(os.path.isfile, barcode_runs['fates_file'])), 'missing some fates files'\n",
    "\n",
    "display(HTML(barcode_runs.to_html(index=False)))"
   ]
  },
  {
   "cell_type": "markdown",
   "metadata": {},
   "source": [
    "Confirm sample / library combinations unique:"
   ]
  },
  {
   "cell_type": "code",
   "execution_count": 9,
   "metadata": {
    "execution": {
     "iopub.execute_input": "2022-11-26T23:11:03.650944Z",
     "iopub.status.busy": "2022-11-26T23:11:03.649896Z",
     "iopub.status.idle": "2022-11-26T23:11:03.656123Z",
     "shell.execute_reply": "2022-11-26T23:11:03.655541Z"
    }
   },
   "outputs": [],
   "source": [
    "assert len(barcode_runs) == len(barcode_runs.groupby(['sample', 'library']))"
   ]
  },
  {
   "cell_type": "markdown",
   "metadata": {},
   "source": [
    "Make sure the the libraries for which we have barcode runs are all in our variant table:"
   ]
  },
  {
   "cell_type": "code",
   "execution_count": 10,
   "metadata": {
    "execution": {
     "iopub.execute_input": "2022-11-26T23:11:03.660886Z",
     "iopub.status.busy": "2022-11-26T23:11:03.659730Z",
     "iopub.status.idle": "2022-11-26T23:11:03.664625Z",
     "shell.execute_reply": "2022-11-26T23:11:03.664078Z"
    }
   },
   "outputs": [],
   "source": [
    "unknown_libs = set(barcode_runs['library']) - set(variants.libraries)\n",
    "if unknown_libs:\n",
    "    raise ValueError(f\"Libraries with barcode runs not in variant table: {unknown_libs}\")"
   ]
  },
  {
   "cell_type": "markdown",
   "metadata": {},
   "source": [
    "Now concatenate the barcode counts and fates for each sample:"
   ]
  },
  {
   "cell_type": "code",
   "execution_count": 11,
   "metadata": {
    "execution": {
     "iopub.execute_input": "2022-11-26T23:11:03.669363Z",
     "iopub.status.busy": "2022-11-26T23:11:03.668209Z",
     "iopub.status.idle": "2022-11-26T23:11:04.411201Z",
     "shell.execute_reply": "2022-11-26T23:11:04.410574Z"
    }
   },
   "outputs": [
    {
     "name": "stdout",
     "output_type": "stream",
     "text": [
      "First few lines of counts data frame:\n"
     ]
    },
    {
     "data": {
      "text/html": [
       "<table border=\"1\" class=\"dataframe\">\n",
       "  <thead>\n",
       "    <tr style=\"text-align: right;\">\n",
       "      <th>barcode</th>\n",
       "      <th>count</th>\n",
       "      <th>library</th>\n",
       "      <th>sample</th>\n",
       "    </tr>\n",
       "  </thead>\n",
       "  <tbody>\n",
       "    <tr>\n",
       "      <td>GTGTGGCCATATGAGA</td>\n",
       "      <td>9179</td>\n",
       "      <td>lib24</td>\n",
       "      <td>exptREF-none-0-ref</td>\n",
       "    </tr>\n",
       "    <tr>\n",
       "      <td>TATAAAGCACATGCAG</td>\n",
       "      <td>8658</td>\n",
       "      <td>lib24</td>\n",
       "      <td>exptREF-none-0-ref</td>\n",
       "    </tr>\n",
       "    <tr>\n",
       "      <td>AGTGGAGCCGCCAAAC</td>\n",
       "      <td>8128</td>\n",
       "      <td>lib24</td>\n",
       "      <td>exptREF-none-0-ref</td>\n",
       "    </tr>\n",
       "    <tr>\n",
       "      <td>GATGCCGGTGAGATAG</td>\n",
       "      <td>8001</td>\n",
       "      <td>lib24</td>\n",
       "      <td>exptREF-none-0-ref</td>\n",
       "    </tr>\n",
       "    <tr>\n",
       "      <td>GTACAGCATCTGAGTT</td>\n",
       "      <td>7858</td>\n",
       "      <td>lib24</td>\n",
       "      <td>exptREF-none-0-ref</td>\n",
       "    </tr>\n",
       "  </tbody>\n",
       "</table>"
      ],
      "text/plain": [
       "<IPython.core.display.HTML object>"
      ]
     },
     "metadata": {},
     "output_type": "display_data"
    },
    {
     "name": "stdout",
     "output_type": "stream",
     "text": [
      "First few lines of fates data frame:\n"
     ]
    },
    {
     "data": {
      "text/html": [
       "<table border=\"1\" class=\"dataframe\">\n",
       "  <thead>\n",
       "    <tr style=\"text-align: right;\">\n",
       "      <th>fate</th>\n",
       "      <th>count</th>\n",
       "      <th>library</th>\n",
       "      <th>sample</th>\n",
       "    </tr>\n",
       "  </thead>\n",
       "  <tbody>\n",
       "    <tr>\n",
       "      <td>valid barcode</td>\n",
       "      <td>69708086</td>\n",
       "      <td>lib24</td>\n",
       "      <td>exptREF-none-0-ref</td>\n",
       "    </tr>\n",
       "    <tr>\n",
       "      <td>low quality barcode</td>\n",
       "      <td>13378411</td>\n",
       "      <td>lib24</td>\n",
       "      <td>exptREF-none-0-ref</td>\n",
       "    </tr>\n",
       "    <tr>\n",
       "      <td>invalid barcode</td>\n",
       "      <td>9075636</td>\n",
       "      <td>lib24</td>\n",
       "      <td>exptREF-none-0-ref</td>\n",
       "    </tr>\n",
       "    <tr>\n",
       "      <td>unparseable barcode</td>\n",
       "      <td>1392028</td>\n",
       "      <td>lib24</td>\n",
       "      <td>exptREF-none-0-ref</td>\n",
       "    </tr>\n",
       "    <tr>\n",
       "      <td>failed chastity filter</td>\n",
       "      <td>0</td>\n",
       "      <td>lib24</td>\n",
       "      <td>exptREF-none-0-ref</td>\n",
       "    </tr>\n",
       "  </tbody>\n",
       "</table>"
      ],
      "text/plain": [
       "<IPython.core.display.HTML object>"
      ]
     },
     "metadata": {},
     "output_type": "display_data"
    }
   ],
   "source": [
    "counts = pd.concat([pd.read_csv(f) for f in barcode_runs['counts_file']],\n",
    "                   sort=False,\n",
    "                   ignore_index=True)\n",
    "\n",
    "print('First few lines of counts data frame:')\n",
    "display(HTML(counts.head().to_html(index=False)))\n",
    "\n",
    "fates = pd.concat([pd.read_csv(f) for f in barcode_runs['fates_file']],\n",
    "                  sort=False,\n",
    "                  ignore_index=True)\n",
    "\n",
    "print('First few lines of fates data frame:')\n",
    "display(HTML(fates.head().to_html(index=False)))"
   ]
  },
  {
   "cell_type": "markdown",
   "metadata": {},
   "source": [
    "## Examine fates of parsed barcodes\n",
    "First, we'll analyze the \"fates\" of the parsed barcodes.\n",
    "These fates represent what happened to each Illumina read we parsed:\n",
    " - Did the barcode read fail the Illumina chastity filter?\n",
    " - Was the barcode *unparseable* (i.e., the read didn't appear to be a valid barcode based on flanking regions)?\n",
    " - Was the barcode sequence too *low quality* based on the Illumina quality scores?\n",
    " - Was the barcode parseable but *invalid* (i.e., not in our list of variant-associated barcodes in the codon variant table)?\n",
    " - Was the barcode *valid*, and so will be added to variant counts.\n",
    " \n",
    "First, we just write a CSV file with all the barcode fates:"
   ]
  },
  {
   "cell_type": "code",
   "execution_count": 12,
   "metadata": {
    "execution": {
     "iopub.execute_input": "2022-11-26T23:11:04.416990Z",
     "iopub.status.busy": "2022-11-26T23:11:04.415021Z",
     "iopub.status.idle": "2022-11-26T23:11:04.429401Z",
     "shell.execute_reply": "2022-11-26T23:11:04.428684Z"
    }
   },
   "outputs": [
    {
     "name": "stdout",
     "output_type": "stream",
     "text": [
      "Writing barcode fates to results/counts/Omicron_BA2/barcode_fates.csv\n"
     ]
    }
   ],
   "source": [
    "fatesfile = os.path.join(config['counts_dir_Omicron_BA2'], 'barcode_fates.csv')\n",
    "print(f\"Writing barcode fates to {fatesfile}\")\n",
    "fates.to_csv(fatesfile, index=False)"
   ]
  },
  {
   "cell_type": "markdown",
   "metadata": {},
   "source": [
    "Next, we tabulate the barcode fates in wide format:"
   ]
  },
  {
   "cell_type": "code",
   "execution_count": 13,
   "metadata": {
    "execution": {
     "iopub.execute_input": "2022-11-26T23:11:04.435131Z",
     "iopub.status.busy": "2022-11-26T23:11:04.433696Z",
     "iopub.status.idle": "2022-11-26T23:11:04.451246Z",
     "shell.execute_reply": "2022-11-26T23:11:04.450714Z"
    }
   },
   "outputs": [
    {
     "data": {
      "text/html": [
       "<table border=\"1\" class=\"dataframe\">\n",
       "  <thead>\n",
       "    <tr style=\"text-align: right;\">\n",
       "      <th></th>\n",
       "      <th>fate</th>\n",
       "      <th>failed chastity filter</th>\n",
       "      <th>invalid barcode</th>\n",
       "      <th>low quality barcode</th>\n",
       "      <th>unparseable barcode</th>\n",
       "      <th>valid barcode</th>\n",
       "    </tr>\n",
       "    <tr>\n",
       "      <th>sample</th>\n",
       "      <th>library</th>\n",
       "      <th></th>\n",
       "      <th></th>\n",
       "      <th></th>\n",
       "      <th></th>\n",
       "      <th></th>\n",
       "    </tr>\n",
       "  </thead>\n",
       "  <tbody>\n",
       "    <tr>\n",
       "      <th rowspan=\"2\" valign=\"top\">expt10-268C3-180-abneg</th>\n",
       "      <th>lib24</th>\n",
       "      <td>0.0e+00</td>\n",
       "      <td>4.1e+05</td>\n",
       "      <td>5.6e+05</td>\n",
       "      <td>5.7e+04</td>\n",
       "      <td>2.9e+06</td>\n",
       "    </tr>\n",
       "    <tr>\n",
       "      <th>lib25</th>\n",
       "      <td>0.0e+00</td>\n",
       "      <td>3.4e+05</td>\n",
       "      <td>4.9e+05</td>\n",
       "      <td>5.0e+04</td>\n",
       "      <td>2.5e+06</td>\n",
       "    </tr>\n",
       "    <tr>\n",
       "      <th rowspan=\"2\" valign=\"top\">expt12-268C61-98-abneg</th>\n",
       "      <th>lib24</th>\n",
       "      <td>0.0e+00</td>\n",
       "      <td>3.9e+05</td>\n",
       "      <td>5.3e+05</td>\n",
       "      <td>5.7e+04</td>\n",
       "      <td>2.8e+06</td>\n",
       "    </tr>\n",
       "    <tr>\n",
       "      <th>lib25</th>\n",
       "      <td>0.0e+00</td>\n",
       "      <td>3.5e+05</td>\n",
       "      <td>5.0e+05</td>\n",
       "      <td>5.4e+04</td>\n",
       "      <td>2.6e+06</td>\n",
       "    </tr>\n",
       "    <tr>\n",
       "      <th rowspan=\"2\" valign=\"top\">exptREF-none-0-ref</th>\n",
       "      <th>lib24</th>\n",
       "      <td>0.0e+00</td>\n",
       "      <td>9.1e+06</td>\n",
       "      <td>1.3e+07</td>\n",
       "      <td>1.4e+06</td>\n",
       "      <td>7.0e+07</td>\n",
       "    </tr>\n",
       "    <tr>\n",
       "      <th>lib25</th>\n",
       "      <td>0.0e+00</td>\n",
       "      <td>4.3e+06</td>\n",
       "      <td>6.3e+06</td>\n",
       "      <td>6.8e+05</td>\n",
       "      <td>3.3e+07</td>\n",
       "    </tr>\n",
       "  </tbody>\n",
       "</table>"
      ],
      "text/plain": [
       "<IPython.core.display.HTML object>"
      ]
     },
     "metadata": {},
     "output_type": "display_data"
    }
   ],
   "source": [
    "display(HTML(fates\n",
    "             .pivot_table(columns='fate',\n",
    "                          values='count',\n",
    "                          index=['sample', 'library'])\n",
    "             .applymap('{:.1e}'.format)  # scientific notation\n",
    "             .to_html()\n",
    "             ))"
   ]
  },
  {
   "cell_type": "markdown",
   "metadata": {},
   "source": [
    "Now we plot the barcode-read fates for each library / sample, showing the bars for valid barcodes in orange and the others in gray.\n",
    "We see that the largest fraction of barcode reads correspond to valid barcodes, and most of the others are invalid barcodes (probably because the map to variants that aren't present in our variant table since we didn't associate all variants with barcodes). The exception to this is lib2 Titeseq_03_bin3; the PCR for this sample in the original sequencing run failed, so we followed it up with a single MiSeq lane. We did not filter out the PhiX reads from this data before parsing, so these PhiX reads will deflate the fraction of valid barcode reads as expected, but does not indicate any problems."
   ]
  },
  {
   "cell_type": "code",
   "execution_count": 14,
   "metadata": {
    "execution": {
     "iopub.execute_input": "2022-11-26T23:11:04.455706Z",
     "iopub.status.busy": "2022-11-26T23:11:04.454599Z",
     "iopub.status.idle": "2022-11-26T23:11:06.066315Z",
     "shell.execute_reply": "2022-11-26T23:11:06.065738Z"
    }
   },
   "outputs": [
    {
     "data": {
      "image/png": "[encoded data removed]",
      "text/plain": [
       "<Figure size 432x288 with 6 Axes>"
      ]
     },
     "metadata": {
      "needs_background": "light"
     },
     "output_type": "display_data"
    }
   ],
   "source": [
    "ncol = 4\n",
    "nfacets = len(fates.groupby(['sample', 'library']))\n",
    "\n",
    "barcode_fate_plot = (\n",
    "    ggplot(\n",
    "        fates\n",
    "        .assign(sample=lambda x: pd.Categorical(x['sample'],\n",
    "                                                x['sample'].unique(),\n",
    "                                                ordered=True),\n",
    "                fate=lambda x: pd.Categorical(x['fate'],\n",
    "                                              x['fate'].unique(),\n",
    "                                              ordered=True),\n",
    "                is_valid=lambda x: x['fate'] == 'valid barcode'\n",
    "                ), \n",
    "        aes('fate', 'count', fill='is_valid')) +\n",
    "    geom_bar(stat='identity') +\n",
    "    facet_wrap('~ sample + library', ncol=ncol) +\n",
    "    scale_fill_manual(CBPALETTE, guide=False) +\n",
    "    theme(figure_size=(3.25 * ncol, 2 * math.ceil(nfacets / ncol)),\n",
    "          axis_text_x=element_text(angle=90),\n",
    "          panel_grid_major_x=element_blank()\n",
    "          ) +\n",
    "    scale_y_continuous(labels=dms_variants.utils.latex_sci_not,\n",
    "                       name='number of reads')\n",
    "    )\n",
    "\n",
    "_ = barcode_fate_plot.draw()"
   ]
  },
  {
   "cell_type": "markdown",
   "metadata": {},
   "source": [
    "## Add barcode counts to variant table\n",
    "Now we use the [CodonVariantTable.add_sample_counts_df](https://jbloomlab.github.io/dms_variants/dms_variants.codonvarianttable.html#dms_variants.codonvarianttable.CodonVariantTable.add_sample_counts_df) method to add the barcode counts to the variant table:"
   ]
  },
  {
   "cell_type": "code",
   "execution_count": 15,
   "metadata": {
    "execution": {
     "iopub.execute_input": "2022-11-26T23:11:06.071198Z",
     "iopub.status.busy": "2022-11-26T23:11:06.069939Z",
     "iopub.status.idle": "2022-11-26T23:11:08.379919Z",
     "shell.execute_reply": "2022-11-26T23:11:08.379387Z"
    }
   },
   "outputs": [],
   "source": [
    "variants.add_sample_counts_df(counts)"
   ]
  },
  {
   "cell_type": "markdown",
   "metadata": {},
   "source": [
    "The variant table now has a `variant_count_df` attribute that gives a data frame of all the variant counts.\n",
    "Here are the first few lines:"
   ]
  },
  {
   "cell_type": "code",
   "execution_count": 16,
   "metadata": {
    "execution": {
     "iopub.execute_input": "2022-11-26T23:11:08.384489Z",
     "iopub.status.busy": "2022-11-26T23:11:08.383318Z",
     "iopub.status.idle": "2022-11-26T23:11:08.393451Z",
     "shell.execute_reply": "2022-11-26T23:11:08.392896Z"
    }
   },
   "outputs": [
    {
     "data": {
      "text/html": [
       "<table border=\"1\" class=\"dataframe\">\n",
       "  <thead>\n",
       "    <tr style=\"text-align: right;\">\n",
       "      <th>target</th>\n",
       "      <th>library</th>\n",
       "      <th>sample</th>\n",
       "      <th>barcode</th>\n",
       "      <th>count</th>\n",
       "      <th>variant_call_support</th>\n",
       "      <th>codon_substitutions</th>\n",
       "      <th>aa_substitutions</th>\n",
       "      <th>n_codon_substitutions</th>\n",
       "      <th>n_aa_substitutions</th>\n",
       "    </tr>\n",
       "  </thead>\n",
       "  <tbody>\n",
       "    <tr>\n",
       "      <td>Omicron_BA2</td>\n",
       "      <td>lib24</td>\n",
       "      <td>exptREF-none-0-ref</td>\n",
       "      <td>GTGTGGCCATATGAGA</td>\n",
       "      <td>9179</td>\n",
       "      <td>108</td>\n",
       "      <td>TTG122ATG</td>\n",
       "      <td>L122M</td>\n",
       "      <td>1</td>\n",
       "      <td>1</td>\n",
       "    </tr>\n",
       "    <tr>\n",
       "      <td>Omicron_BA2</td>\n",
       "      <td>lib24</td>\n",
       "      <td>exptREF-none-0-ref</td>\n",
       "      <td>TATAAAGCACATGCAG</td>\n",
       "      <td>8658</td>\n",
       "      <td>103</td>\n",
       "      <td>AAT13ATG</td>\n",
       "      <td>N13M</td>\n",
       "      <td>1</td>\n",
       "      <td>1</td>\n",
       "    </tr>\n",
       "    <tr>\n",
       "      <td>Omicron_BA2</td>\n",
       "      <td>lib24</td>\n",
       "      <td>exptREF-none-0-ref</td>\n",
       "      <td>AGTGGAGCCGCCAAAC</td>\n",
       "      <td>8128</td>\n",
       "      <td>77</td>\n",
       "      <td>GTT32ATT</td>\n",
       "      <td>V32I</td>\n",
       "      <td>1</td>\n",
       "      <td>1</td>\n",
       "    </tr>\n",
       "    <tr>\n",
       "      <td>Omicron_BA2</td>\n",
       "      <td>lib24</td>\n",
       "      <td>exptREF-none-0-ref</td>\n",
       "      <td>GATGCCGGTGAGATAG</td>\n",
       "      <td>8001</td>\n",
       "      <td>95</td>\n",
       "      <td>GTT115ATG</td>\n",
       "      <td>V115M</td>\n",
       "      <td>1</td>\n",
       "      <td>1</td>\n",
       "    </tr>\n",
       "    <tr>\n",
       "      <td>Omicron_BA2</td>\n",
       "      <td>lib24</td>\n",
       "      <td>exptREF-none-0-ref</td>\n",
       "      <td>GTACAGCATCTGAGTT</td>\n",
       "      <td>7858</td>\n",
       "      <td>86</td>\n",
       "      <td>AAG198GTT</td>\n",
       "      <td>K198V</td>\n",
       "      <td>1</td>\n",
       "      <td>1</td>\n",
       "    </tr>\n",
       "  </tbody>\n",
       "</table>"
      ],
      "text/plain": [
       "<IPython.core.display.HTML object>"
      ]
     },
     "metadata": {},
     "output_type": "display_data"
    }
   ],
   "source": [
    "display(HTML(variants.variant_count_df.head().to_html(index=False)))"
   ]
  },
  {
   "cell_type": "markdown",
   "metadata": {},
   "source": [
    "Write the variant counts data frame to a CSV file.\n",
    "It can then be used to re-initialize a [CodonVariantTable](https://jbloomlab.github.io/dms_variants/dms_variants.codonvarianttable.html#dms_variants.codonvarianttable.CodonVariantTable) via its [from_variant_count_df](https://jbloomlab.github.io/dms_variants/dms_variants.codonvarianttable.html#dms_variants.codonvarianttable.CodonVariantTable.from_variant_count_df) method:"
   ]
  },
  {
   "cell_type": "code",
   "execution_count": 17,
   "metadata": {
    "execution": {
     "iopub.execute_input": "2022-11-26T23:11:08.398235Z",
     "iopub.status.busy": "2022-11-26T23:11:08.397052Z",
     "iopub.status.idle": "2022-11-26T23:11:17.577750Z",
     "shell.execute_reply": "2022-11-26T23:11:17.576697Z"
    }
   },
   "outputs": [
    {
     "name": "stdout",
     "output_type": "stream",
     "text": [
      "Writing variant counts to results/counts/Omicron_BA2/variant_counts.csv.gz\n"
     ]
    }
   ],
   "source": [
    "print(f\"Writing variant counts to {config['variant_counts_Omicron_BA2']}\")\n",
    "variants.variant_count_df.to_csv(config['variant_counts_Omicron_BA2'], index=False, compression='gzip')"
   ]
  },
  {
   "cell_type": "markdown",
   "metadata": {},
   "source": [
    "The [CodonVariantTable](https://jbloomlab.github.io/dms_variants/dms_variants.codonvarianttable.html#dms_variants.codonvarianttable.CodonVariantTable) has lots of nice functions that can be used to analyze the counts it contains.\n",
    "However, we do that in the next notebook so we don't have to re-run this entire (rather computationally intensive) notebook every time we want to analyze a new aspect of the counts."
   ]
  }
 ],
 "metadata": {
  "kernelspec": {
   "display_name": "Python 3 (ipykernel)",
   "language": "python",
   "name": "python3"
  },
  "language_info": {
   "codemirror_mode": {
    "name": "ipython",
    "version": 3
   },
   "file_extension": ".py",
   "mimetype": "text/x-python",
   "name": "python",
   "nbconvert_exporter": "python",
   "pygments_lexer": "ipython3",
   "version": "3.8.13"
  }
 },
 "nbformat": 4,
 "nbformat_minor": 4
}
