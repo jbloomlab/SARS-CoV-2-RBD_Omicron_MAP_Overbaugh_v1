{
 "cells": [
  {
   "cell_type": "markdown",
   "metadata": {},
   "source": [
    "# Ratio of sequencing counts to cells sorted\n",
    "This Python Jupyter notebook looks at the ratio of sequencing counts to cells sorted for each sample, and flags any where this ratio seems too low.\n",
    "\n",
    "First, import Python modules:"
   ]
  },
  {
   "cell_type": "code",
   "execution_count": 1,
   "metadata": {
    "execution": {
     "iopub.execute_input": "2022-11-26T23:02:59.786773Z",
     "iopub.status.busy": "2022-11-26T23:02:59.786331Z",
     "iopub.status.idle": "2022-11-26T23:03:02.374750Z",
     "shell.execute_reply": "2022-11-26T23:03:02.374091Z"
    }
   },
   "outputs": [],
   "source": [
    "import Bio.SeqIO\n",
    "\n",
    "from IPython.display import display, HTML\n",
    "\n",
    "import matplotlib.pyplot as plt\n",
    "\n",
    "import pandas as pd\n",
    "\n",
    "from plotnine import *\n",
    "\n",
    "import yaml"
   ]
  },
  {
   "cell_type": "markdown",
   "metadata": {},
   "source": [
    "Read the configuration file:"
   ]
  },
  {
   "cell_type": "code",
   "execution_count": 2,
   "metadata": {
    "execution": {
     "iopub.execute_input": "2022-11-26T23:03:02.379979Z",
     "iopub.status.busy": "2022-11-26T23:03:02.378673Z",
     "iopub.status.idle": "2022-11-26T23:03:02.400743Z",
     "shell.execute_reply": "2022-11-26T23:03:02.400193Z"
    }
   },
   "outputs": [],
   "source": [
    "with open('config.yaml') as f:\n",
    "    config = yaml.safe_load(f)"
   ]
  },
  {
   "cell_type": "markdown",
   "metadata": {},
   "source": [
    "Read information about the samples:"
   ]
  },
  {
   "cell_type": "code",
   "execution_count": 3,
   "metadata": {
    "execution": {
     "iopub.execute_input": "2022-11-26T23:03:02.405220Z",
     "iopub.status.busy": "2022-11-26T23:03:02.404205Z",
     "iopub.status.idle": "2022-11-26T23:03:02.411477Z",
     "shell.execute_reply": "2022-11-26T23:03:02.410996Z"
    }
   },
   "outputs": [],
   "source": [
    "samples_df = pd.read_csv(config['barcode_runs_Omicron_BA1'])"
   ]
  },
  {
   "cell_type": "markdown",
   "metadata": {},
   "source": [
    "Read the variant counts:"
   ]
  },
  {
   "cell_type": "code",
   "execution_count": 4,
   "metadata": {
    "execution": {
     "iopub.execute_input": "2022-11-26T23:03:02.452630Z",
     "iopub.status.busy": "2022-11-26T23:03:02.451369Z",
     "iopub.status.idle": "2022-11-26T23:03:03.390421Z",
     "shell.execute_reply": "2022-11-26T23:03:03.389928Z"
    }
   },
   "outputs": [],
   "source": [
    "variant_counts = pd.read_csv(config['variant_counts_Omicron_BA1'])"
   ]
  },
  {
   "cell_type": "markdown",
   "metadata": {},
   "source": [
    "Get the \"primary target\""
   ]
  },
  {
   "cell_type": "code",
   "execution_count": 5,
   "metadata": {
    "execution": {
     "iopub.execute_input": "2022-11-26T23:03:03.394222Z",
     "iopub.status.busy": "2022-11-26T23:03:03.393376Z",
     "iopub.status.idle": "2022-11-26T23:03:03.431014Z",
     "shell.execute_reply": "2022-11-26T23:03:03.430422Z"
    }
   },
   "outputs": [
    {
     "name": "stdout",
     "output_type": "stream",
     "text": [
      "Primary target is Omicron_BA1\n"
     ]
    }
   ],
   "source": [
    "wt_seqrecord = Bio.SeqIO.read(config['wildtype_sequence_Omicron_BA1'], 'fasta')\n",
    "primary_target = wt_seqrecord.name\n",
    "print(f\"Primary target is {primary_target}\")"
   ]
  },
  {
   "cell_type": "markdown",
   "metadata": {},
   "source": [
    "Merge the sample information and aggregated variant counts data frames into a new data frame that has the number of cells sorted and the total variant counts for each sample, as well as the ratio of the variant counts to cells.\n",
    "Importantly, counts and ratios are computed using counts for all variants (SARS-CoV-2) and counts for just variants of the primary target (SARS-CoV-2).\n",
    "The cell counts aren't meaningful for reference samples, so set to `NA`."
   ]
  },
  {
   "cell_type": "code",
   "execution_count": 6,
   "metadata": {
    "execution": {
     "iopub.execute_input": "2022-11-26T23:03:03.433882Z",
     "iopub.status.busy": "2022-11-26T23:03:03.433648Z",
     "iopub.status.idle": "2022-11-26T23:03:03.643914Z",
     "shell.execute_reply": "2022-11-26T23:03:03.643264Z"
    }
   },
   "outputs": [
    {
     "name": "stdout",
     "output_type": "stream",
     "text": [
      "First few lines of the data frame, writing entirety to results/counts/Omicron_BA1/counts_to_cells_csv.csv:\n"
     ]
    },
    {
     "data": {
      "text/html": [
       "<table border=\"1\" class=\"dataframe\">\n",
       "  <thead>\n",
       "    <tr style=\"text-align: right;\">\n",
       "      <th>sample_lib</th>\n",
       "      <th>date</th>\n",
       "      <th>experiment</th>\n",
       "      <th>antibody</th>\n",
       "      <th>concentration</th>\n",
       "      <th>sort_bin</th>\n",
       "      <th>number_cells</th>\n",
       "      <th>counts</th>\n",
       "      <th>counts:cells</th>\n",
       "      <th>is_reference</th>\n",
       "    </tr>\n",
       "  </thead>\n",
       "  <tbody>\n",
       "    <tr>\n",
       "      <td>exptREF-none-0-ref, lib22</td>\n",
       "      <td>220422</td>\n",
       "      <td>exptREF</td>\n",
       "      <td>none</td>\n",
       "      <td>0</td>\n",
       "      <td>ref</td>\n",
       "      <td>NaN</td>\n",
       "      <td>3.5e+07</td>\n",
       "      <td>NaN</td>\n",
       "      <td>True</td>\n",
       "    </tr>\n",
       "    <tr>\n",
       "      <td>exptREF-none-0-ref, lib23</td>\n",
       "      <td>220422</td>\n",
       "      <td>exptREF</td>\n",
       "      <td>none</td>\n",
       "      <td>0</td>\n",
       "      <td>ref</td>\n",
       "      <td>NaN</td>\n",
       "      <td>3.8e+07</td>\n",
       "      <td>NaN</td>\n",
       "      <td>True</td>\n",
       "    </tr>\n",
       "    <tr>\n",
       "      <td>expt26-268C3-170-abneg, lib22</td>\n",
       "      <td>220422</td>\n",
       "      <td>expt26</td>\n",
       "      <td>268C3</td>\n",
       "      <td>170</td>\n",
       "      <td>abneg</td>\n",
       "      <td>7.5e+05</td>\n",
       "      <td>2.2e+06</td>\n",
       "      <td>2.9</td>\n",
       "      <td>False</td>\n",
       "    </tr>\n",
       "    <tr>\n",
       "      <td>expt26-268C3-170-abneg, lib23</td>\n",
       "      <td>220422</td>\n",
       "      <td>expt26</td>\n",
       "      <td>268C3</td>\n",
       "      <td>170</td>\n",
       "      <td>abneg</td>\n",
       "      <td>7.1e+05</td>\n",
       "      <td>1.9e+06</td>\n",
       "      <td>2.7</td>\n",
       "      <td>False</td>\n",
       "    </tr>\n",
       "  </tbody>\n",
       "</table>"
      ],
      "text/plain": [
       "<IPython.core.display.HTML object>"
      ]
     },
     "metadata": {},
     "output_type": "display_data"
    }
   ],
   "source": [
    "counts_cells = (\n",
    "    samples_df\n",
    "    .assign(sample_lib=lambda x: x['sample'] + ', ' + x['library'],\n",
    "            number_cells=lambda x: x['number_cells'].where(x['sort_bin'] != 'ref', pd.NA))\n",
    "    [['sample_lib', 'date', 'experiment', 'antibody', 'concentration', 'sort_bin', 'number_cells']]\n",
    "    .merge(variant_counts\n",
    "           .assign(sample_lib=lambda x: x['sample'] + ', ' + x['library'])\n",
    "           .groupby('sample_lib')\n",
    "           .aggregate(counts=pd.NamedAgg('count', 'sum'))\n",
    "           .astype(float)\n",
    "           .reset_index(),\n",
    "           on='sample_lib', how='left', validate='one_to_one',\n",
    "           )\n",
    "    .assign(sample_lib=lambda x: pd.Categorical(x['sample_lib'], reversed(x['sample_lib'].unique()), ordered=True),\n",
    "            counts_to_cells=lambda x: x['counts'] / x['number_cells'],\n",
    "            is_reference=lambda x: x['sort_bin'].isin(['trans', 'ref']),\n",
    "           )\n",
    "    .rename(columns={'counts_to_cells': 'counts:cells',\n",
    "                     })\n",
    "    )\n",
    "\n",
    "print(f\"First few lines of the data frame, writing entirety to {config['counts_to_cells_csv_Omicron_BA1']}:\")\n",
    "display(HTML(counts_cells.head().to_html(index=False, float_format='{:.2g}'.format)))\n",
    "counts_cells.to_csv(config['counts_to_cells_csv_Omicron_BA1'], index=False, float_format='%.3g')"
   ]
  },
  {
   "cell_type": "markdown",
   "metadata": {},
   "source": [
    "Now we plot the number of counts or the counts:cells ratio for all samples.\n",
    "We stratify by reference samples and escape samples, and only plot the counts:cells ratio for escape samples as cells are not sorted for reference samples.\n",
    "We plot the counts / ratios for all variants, and primary target (SARS-CoV-2) variants.\n",
    "\n",
    "In order to have the axis limits be reasonable, we clip very high / low values and draw dotted black lines to indicate the clipping.\n",
    "For reference sample counts, and escape sample counts:cells ratio, we have minimum desired values.\n",
    "We draw dashed green lines at these minimum values, and keep track of samples that don't achieve the minimum."
   ]
  },
  {
   "cell_type": "code",
   "execution_count": 7,
   "metadata": {
    "execution": {
     "iopub.execute_input": "2022-11-26T23:03:03.649411Z",
     "iopub.status.busy": "2022-11-26T23:03:03.648137Z",
     "iopub.status.idle": "2022-11-26T23:03:04.729877Z",
     "shell.execute_reply": "2022-11-26T23:03:04.729425Z"
    },
    "scrolled": true
   },
   "outputs": [
    {
     "name": "stderr",
     "output_type": "stream",
     "text": [
      "/loc/scratch/4614934/ipykernel_5608/1580948032.py:14: SettingWithCopyWarning: \n",
      "A value is trying to be set on a copy of a slice from a DataFrame.\n",
      "Try using .loc[row_indexer,col_indexer] = value instead\n",
      "\n",
      "See the caveats in the documentation: https://pandas.pydata.org/pandas-docs/stable/user_guide/indexing.html#returning-a-view-versus-a-copy\n"
     ]
    },
    {
     "data": {
      "image/png": "[encoded data removed]",
      "text/plain": [
       "<Figure size 432x288 with 1 Axes>"
      ]
     },
     "metadata": {},
     "output_type": "display_data"
    },
    {
     "name": "stderr",
     "output_type": "stream",
     "text": [
      "/loc/scratch/4614934/ipykernel_5608/1580948032.py:14: SettingWithCopyWarning: \n",
      "A value is trying to be set on a copy of a slice from a DataFrame.\n",
      "Try using .loc[row_indexer,col_indexer] = value instead\n",
      "\n",
      "See the caveats in the documentation: https://pandas.pydata.org/pandas-docs/stable/user_guide/indexing.html#returning-a-view-versus-a-copy\n"
     ]
    },
    {
     "data": {
      "image/png": "[encoded data removed]",
      "text/plain": [
       "<Figure size 400x50 with 1 Axes>"
      ]
     },
     "metadata": {},
     "output_type": "display_data"
    },
    {
     "name": "stderr",
     "output_type": "stream",
     "text": [
      "/loc/scratch/4614934/ipykernel_5608/1580948032.py:14: SettingWithCopyWarning: \n",
      "A value is trying to be set on a copy of a slice from a DataFrame.\n",
      "Try using .loc[row_indexer,col_indexer] = value instead\n",
      "\n",
      "See the caveats in the documentation: https://pandas.pydata.org/pandas-docs/stable/user_guide/indexing.html#returning-a-view-versus-a-copy\n"
     ]
    },
    {
     "data": {
      "image/png": "[encoded data removed]",
      "text/plain": [
       "<Figure size 400x50 with 1 Axes>"
      ]
     },
     "metadata": {},
     "output_type": "display_data"
    }
   ],
   "source": [
    "min_fail_sample_libs = set([])  # sample_lib that fail desired min\n",
    "\n",
    "for var, is_reference, lower_clip, upper_clip, desired_min in [\n",
    "            ('counts', True, 1e5, None, config['reference_min_counts']),\n",
    "            ('counts', False, 1e5, None, None),\n",
    "            ('counts:cells', False, 0.1, 10, config['min_counts_to_cells_ratio']),\n",
    "            ]:\n",
    "\n",
    "    # get tidy data frame with samples of interest\n",
    "    tidy_df = (\n",
    "        counts_cells\n",
    "        .query('is_reference == @is_reference')\n",
    "        )\n",
    "    tidy_df[var] = tidy_df[var].clip(lower=lower_clip, upper=upper_clip).astype(float)\n",
    "\n",
    "    # make plot\n",
    "    p = (ggplot(tidy_df) +\n",
    "         aes(var, 'sample_lib') +\n",
    "         geom_point(size=2, alpha=0.7) +\n",
    "         theme(figure_size=(4, 0.25 * tidy_df['sample_lib'].nunique())) +\n",
    "         ggtitle(f\"{var} for reference=={is_reference} samples\")\n",
    "         )\n",
    "    if var == 'counts':  # plot counts on log scale\n",
    "        p = p + scale_x_log10()\n",
    "        \n",
    "    # add dotted vertical lines if clipping if data\n",
    "    if (lower_clip is not None) and (lower_clip >= tidy_df[var].min()):\n",
    "        p = p + geom_vline(xintercept=lower_clip, color='black', linetype='dotted')\n",
    "    if (upper_clip is not None) and (upper_clip <= tidy_df[var].max()):\n",
    "        p = p + geom_vline(xintercept=upper_clip, color='black', linetype='dotted')\n",
    "        \n",
    "    # draw line at desired minimum value, and identify any samples that fail minimum\n",
    "    if desired_min is not None:\n",
    "        p = p + geom_vline(xintercept=desired_min, color='green', linetype='dashed')\n",
    "        min_fail_sample_libs.update(set(\n",
    "            tidy_df\n",
    "            .assign(fail_min=lambda x: x[var] < desired_min)\n",
    "            .query('fail_min')\n",
    "            ['sample_lib']\n",
    "            ))\n",
    "    \n",
    "    # draw figure\n",
    "    fig = p.draw()\n",
    "    display(fig)\n",
    "    plt.close(fig)"
   ]
  },
  {
   "cell_type": "markdown",
   "metadata": {},
   "source": [
    "Now list any samples that fail the minimum counts or counts:cell ratio:"
   ]
  },
  {
   "cell_type": "code",
   "execution_count": 8,
   "metadata": {
    "execution": {
     "iopub.execute_input": "2022-11-26T23:03:04.733598Z",
     "iopub.status.busy": "2022-11-26T23:03:04.732627Z",
     "iopub.status.idle": "2022-11-26T23:03:04.743845Z",
     "shell.execute_reply": "2022-11-26T23:03:04.743453Z"
    }
   },
   "outputs": [
    {
     "name": "stdout",
     "output_type": "stream",
     "text": [
      "Reference samples with < 25000000.0 counts, or escape samples with a counts:cell ratio < 2.5.\n"
     ]
    },
    {
     "data": {
      "text/html": [
       "<table border=\"1\" class=\"dataframe\">\n",
       "  <thead>\n",
       "    <tr style=\"text-align: right;\">\n",
       "      <th>sample_lib</th>\n",
       "      <th>date</th>\n",
       "      <th>experiment</th>\n",
       "      <th>antibody</th>\n",
       "      <th>concentration</th>\n",
       "      <th>sort_bin</th>\n",
       "      <th>number_cells</th>\n",
       "      <th>counts</th>\n",
       "      <th>counts:cells</th>\n",
       "      <th>is_reference</th>\n",
       "    </tr>\n",
       "  </thead>\n",
       "  <tbody>\n",
       "  </tbody>\n",
       "</table>"
      ],
      "text/plain": [
       "<IPython.core.display.HTML object>"
      ]
     },
     "metadata": {},
     "output_type": "display_data"
    }
   ],
   "source": [
    "print(f\"Reference samples with < {config['reference_min_counts']} counts, \"\n",
    "      f\"or escape samples with a counts:cell ratio < {config['min_counts_to_cells_ratio']}.\")\n",
    "\n",
    "display(HTML(\n",
    "    counts_cells\n",
    "    .query('sample_lib in @min_fail_sample_libs')\n",
    "    .to_html(index=False, float_format='{:.2g}'.format)\n",
    "    ))"
   ]
  },
  {
   "cell_type": "code",
   "execution_count": null,
   "metadata": {},
   "outputs": [],
   "source": []
  }
 ],
 "metadata": {
  "kernelspec": {
   "display_name": "Python 3 (ipykernel)",
   "language": "python",
   "name": "python3"
  },
  "language_info": {
   "codemirror_mode": {
    "name": "ipython",
    "version": 3
   },
   "file_extension": ".py",
   "mimetype": "text/x-python",
   "name": "python",
   "nbconvert_exporter": "python",
   "pygments_lexer": "ipython3",
   "version": "3.8.13"
  }
 },
 "nbformat": 4,
 "nbformat_minor": 4
}
