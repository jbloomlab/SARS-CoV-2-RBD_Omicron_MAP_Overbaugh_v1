{
 "cells": [
  {
   "cell_type": "markdown",
   "metadata": {},
   "source": [
    "# Aggregate variant counts for all samples\n",
    "Separate `Snakemake` rules count the observations of each variant in each sample from the Illumina barcode sequencing.\n",
    "This Python Jupyter notebook aggregates all of this counts, and then adds them to a codon variant table."
   ]
  },
  {
   "cell_type": "markdown",
   "metadata": {},
   "source": [
    "## Set up analysis\n",
    "### Import Python modules.\n",
    "Use [plotnine](https://plotnine.readthedocs.io/en/stable/) for ggplot2-like plotting.\n",
    "\n",
    "The analysis relies heavily on the Bloom lab's [dms_variants](https://jbloomlab.github.io/dms_variants) package:"
   ]
  },
  {
   "cell_type": "code",
   "execution_count": 1,
   "metadata": {
    "execution": {
     "iopub.execute_input": "2022-11-26T23:02:56.799380Z",
     "iopub.status.busy": "2022-11-26T23:02:56.798746Z",
     "iopub.status.idle": "2022-11-26T23:02:59.629462Z",
     "shell.execute_reply": "2022-11-26T23:02:59.628738Z"
    }
   },
   "outputs": [],
   "source": [
    "import glob\n",
    "import itertools\n",
    "import math\n",
    "import os\n",
    "import warnings\n",
    "\n",
    "import Bio.SeqIO\n",
    "\n",
    "import dms_variants.codonvarianttable\n",
    "from dms_variants.constants import CBPALETTE\n",
    "import dms_variants.utils\n",
    "import dms_variants.plotnine_themes\n",
    "\n",
    "from IPython.display import display, HTML\n",
    "\n",
    "import pandas as pd\n",
    "\n",
    "from plotnine import *\n",
    "\n",
    "import yaml"
   ]
  },
  {
   "cell_type": "markdown",
   "metadata": {},
   "source": [
    "Set [plotnine](https://plotnine.readthedocs.io/en/stable/) theme to the gray-grid one defined in `dms_variants`:"
   ]
  },
  {
   "cell_type": "code",
   "execution_count": 2,
   "metadata": {
    "execution": {
     "iopub.execute_input": "2022-11-26T23:02:59.635782Z",
     "iopub.status.busy": "2022-11-26T23:02:59.634102Z",
     "iopub.status.idle": "2022-11-26T23:02:59.640796Z",
     "shell.execute_reply": "2022-11-26T23:02:59.640180Z"
    }
   },
   "outputs": [],
   "source": [
    "theme_set(dms_variants.plotnine_themes.theme_graygrid())"
   ]
  },
  {
   "cell_type": "markdown",
   "metadata": {},
   "source": [
    "Versions of key software:"
   ]
  },
  {
   "cell_type": "code",
   "execution_count": 3,
   "metadata": {
    "execution": {
     "iopub.execute_input": "2022-11-26T23:02:59.646087Z",
     "iopub.status.busy": "2022-11-26T23:02:59.644732Z",
     "iopub.status.idle": "2022-11-26T23:02:59.673004Z",
     "shell.execute_reply": "2022-11-26T23:02:59.650876Z"
    }
   },
   "outputs": [
    {
     "name": "stdout",
     "output_type": "stream",
     "text": [
      "Using dms_variants version 0.8.10\n"
     ]
    }
   ],
   "source": [
    "print(f\"Using dms_variants version {dms_variants.__version__}\")"
   ]
  },
  {
   "cell_type": "markdown",
   "metadata": {},
   "source": [
    "Ignore warnings that clutter output:"
   ]
  },
  {
   "cell_type": "code",
   "execution_count": 4,
   "metadata": {
    "execution": {
     "iopub.execute_input": "2022-11-26T23:02:59.680571Z",
     "iopub.status.busy": "2022-11-26T23:02:59.680265Z",
     "iopub.status.idle": "2022-11-26T23:02:59.683611Z",
     "shell.execute_reply": "2022-11-26T23:02:59.682968Z"
    }
   },
   "outputs": [],
   "source": [
    "warnings.simplefilter('ignore')"
   ]
  },
  {
   "cell_type": "markdown",
   "metadata": {},
   "source": [
    "Read the configuration file:"
   ]
  },
  {
   "cell_type": "code",
   "execution_count": 5,
   "metadata": {
    "execution": {
     "iopub.execute_input": "2022-11-26T23:02:59.687922Z",
     "iopub.status.busy": "2022-11-26T23:02:59.687625Z",
     "iopub.status.idle": "2022-11-26T23:02:59.707529Z",
     "shell.execute_reply": "2022-11-26T23:02:59.706884Z"
    }
   },
   "outputs": [],
   "source": [
    "with open('config.yaml') as f:\n",
    "    config = yaml.safe_load(f)"
   ]
  },
  {
   "cell_type": "markdown",
   "metadata": {},
   "source": [
    "Make output directory if needed:"
   ]
  },
  {
   "cell_type": "code",
   "execution_count": 6,
   "metadata": {
    "execution": {
     "iopub.execute_input": "2022-11-26T23:02:59.712711Z",
     "iopub.status.busy": "2022-11-26T23:02:59.711360Z",
     "iopub.status.idle": "2022-11-26T23:02:59.716936Z",
     "shell.execute_reply": "2022-11-26T23:02:59.716324Z"
    }
   },
   "outputs": [],
   "source": [
    "os.makedirs(config['counts_dir_Wuhan_Hu_1'], exist_ok=True)"
   ]
  },
  {
   "cell_type": "markdown",
   "metadata": {},
   "source": [
    "## Initialize codon variant table\n",
    "Initialize the [CodonVariantTable](https://jbloomlab.github.io/dms_variants/dms_variants.codonvarianttable.html#dms_variants.codonvarianttable.CodonVariantTable) using the wildtype gene sequence and the CSV file with the table of variants:"
   ]
  },
  {
   "cell_type": "code",
   "execution_count": 7,
   "metadata": {
    "execution": {
     "iopub.execute_input": "2022-11-26T23:02:59.760184Z",
     "iopub.status.busy": "2022-11-26T23:02:59.758727Z",
     "iopub.status.idle": "2022-11-26T23:03:01.369584Z",
     "shell.execute_reply": "2022-11-26T23:03:01.369043Z"
    }
   },
   "outputs": [
    {
     "name": "stdout",
     "output_type": "stream",
     "text": [
      "Read sequence of 603 nt for Wuhan_Hu_1 from data/wildtype_sequence_Wuhan_Hu_1.fasta\n",
      "Initializing CodonVariantTable from gene sequence and data/codon_variant_table_Wuhan_Hu_1.csv\n"
     ]
    }
   ],
   "source": [
    "wt_seqrecord = Bio.SeqIO.read(config['wildtype_sequence_Wuhan_Hu_1'], 'fasta')\n",
    "geneseq = str(wt_seqrecord.seq)\n",
    "primary_target = wt_seqrecord.name\n",
    "print(f\"Read sequence of {len(geneseq)} nt for {primary_target} from {config['wildtype_sequence_Wuhan_Hu_1']}\")\n",
    "      \n",
    "print(f\"Initializing CodonVariantTable from gene sequence and {config['bc_variant_lookup_Wuhan_Hu_1']}\")\n",
    "      \n",
    "variants = dms_variants.codonvarianttable.CodonVariantTable(\n",
    "                geneseq=geneseq,\n",
    "                barcode_variant_file=config['bc_variant_lookup_Wuhan_Hu_1'],\n",
    "                substitutions_are_codon=True,\n",
    "                substitutions_col='codon_substitutions',\n",
    "                primary_target=primary_target)"
   ]
  },
  {
   "cell_type": "markdown",
   "metadata": {},
   "source": [
    "## Read barcode counts / fates\n",
    "Read data frame with list of all samples (barcode runs):"
   ]
  },
  {
   "cell_type": "code",
   "execution_count": 8,
   "metadata": {
    "execution": {
     "iopub.execute_input": "2022-11-26T23:03:01.374593Z",
     "iopub.status.busy": "2022-11-26T23:03:01.373235Z",
     "iopub.status.idle": "2022-11-26T23:03:01.406731Z",
     "shell.execute_reply": "2022-11-26T23:03:01.406059Z"
    }
   },
   "outputs": [
    {
     "name": "stdout",
     "output_type": "stream",
     "text": [
      "Reading list of barcode runs from data/barcode_runs_Wuhan_Hu_1.csv\n"
     ]
    },
    {
     "data": {
      "text/html": [
       "<table border=\"1\" class=\"dataframe\">\n",
       "  <thead>\n",
       "    <tr style=\"text-align: right;\">\n",
       "      <th>date</th>\n",
       "      <th>experiment</th>\n",
       "      <th>target</th>\n",
       "      <th>library</th>\n",
       "      <th>antibody</th>\n",
       "      <th>concentration</th>\n",
       "      <th>sort_bin</th>\n",
       "      <th>selection</th>\n",
       "      <th>sample</th>\n",
       "      <th>experiment_type</th>\n",
       "      <th>number_cells</th>\n",
       "      <th>frac_escape</th>\n",
       "      <th>sample_lib</th>\n",
       "      <th>counts_file</th>\n",
       "      <th>fates_file</th>\n",
       "    </tr>\n",
       "  </thead>\n",
       "  <tbody>\n",
       "    <tr>\n",
       "      <td>220816</td>\n",
       "      <td>exptREF</td>\n",
       "      <td>Wuhan_Hu_1</td>\n",
       "      <td>lib12</td>\n",
       "      <td>none</td>\n",
       "      <td>0</td>\n",
       "      <td>ref</td>\n",
       "      <td>reference</td>\n",
       "      <td>exptREF-none-0-ref</td>\n",
       "      <td>ab_selection</td>\n",
       "      <td>NaN</td>\n",
       "      <td>NaN</td>\n",
       "      <td>exptREF-none-0-ref_lib12</td>\n",
       "      <td>results/counts/Wuhan_Hu_1/exptREF-none-0-ref_lib12_counts.csv</td>\n",
       "      <td>results/counts/Wuhan_Hu_1/exptREF-none-0-ref_lib12_fates.csv</td>\n",
       "    </tr>\n",
       "    <tr>\n",
       "      <td>220816</td>\n",
       "      <td>exptREF</td>\n",
       "      <td>Wuhan_Hu_1</td>\n",
       "      <td>lib13</td>\n",
       "      <td>none</td>\n",
       "      <td>0</td>\n",
       "      <td>ref</td>\n",
       "      <td>reference</td>\n",
       "      <td>exptREF-none-0-ref</td>\n",
       "      <td>ab_selection</td>\n",
       "      <td>NaN</td>\n",
       "      <td>NaN</td>\n",
       "      <td>exptREF-none-0-ref_lib13</td>\n",
       "      <td>results/counts/Wuhan_Hu_1/exptREF-none-0-ref_lib13_counts.csv</td>\n",
       "      <td>results/counts/Wuhan_Hu_1/exptREF-none-0-ref_lib13_fates.csv</td>\n",
       "    </tr>\n",
       "    <tr>\n",
       "      <td>220816</td>\n",
       "      <td>expt2</td>\n",
       "      <td>Wuhan_Hu_1</td>\n",
       "      <td>lib12</td>\n",
       "      <td>268C3</td>\n",
       "      <td>352</td>\n",
       "      <td>abneg</td>\n",
       "      <td>escape</td>\n",
       "      <td>expt2-268C3-352-abneg</td>\n",
       "      <td>NaN</td>\n",
       "      <td>195056.0</td>\n",
       "      <td>0.055</td>\n",
       "      <td>expt2-268C3-352-abneg_lib12</td>\n",
       "      <td>results/counts/Wuhan_Hu_1/expt2-268C3-352-abneg_lib12_counts.csv</td>\n",
       "      <td>results/counts/Wuhan_Hu_1/expt2-268C3-352-abneg_lib12_fates.csv</td>\n",
       "    </tr>\n",
       "    <tr>\n",
       "      <td>220816</td>\n",
       "      <td>expt2</td>\n",
       "      <td>Wuhan_Hu_1</td>\n",
       "      <td>lib13</td>\n",
       "      <td>268C3</td>\n",
       "      <td>352</td>\n",
       "      <td>abneg</td>\n",
       "      <td>escape</td>\n",
       "      <td>expt2-268C3-352-abneg</td>\n",
       "      <td>NaN</td>\n",
       "      <td>198944.0</td>\n",
       "      <td>0.058</td>\n",
       "      <td>expt2-268C3-352-abneg_lib13</td>\n",
       "      <td>results/counts/Wuhan_Hu_1/expt2-268C3-352-abneg_lib13_counts.csv</td>\n",
       "      <td>results/counts/Wuhan_Hu_1/expt2-268C3-352-abneg_lib13_fates.csv</td>\n",
       "    </tr>\n",
       "    <tr>\n",
       "      <td>220816</td>\n",
       "      <td>expt3</td>\n",
       "      <td>Wuhan_Hu_1</td>\n",
       "      <td>lib12</td>\n",
       "      <td>268C13</td>\n",
       "      <td>796</td>\n",
       "      <td>abneg</td>\n",
       "      <td>escape</td>\n",
       "      <td>expt3-268C13-796-abneg</td>\n",
       "      <td>NaN</td>\n",
       "      <td>509000.0</td>\n",
       "      <td>0.141</td>\n",
       "      <td>expt3-268C13-796-abneg_lib12</td>\n",
       "      <td>results/counts/Wuhan_Hu_1/expt3-268C13-796-abneg_lib12_counts.csv</td>\n",
       "      <td>results/counts/Wuhan_Hu_1/expt3-268C13-796-abneg_lib12_fates.csv</td>\n",
       "    </tr>\n",
       "    <tr>\n",
       "      <td>220816</td>\n",
       "      <td>expt3</td>\n",
       "      <td>Wuhan_Hu_1</td>\n",
       "      <td>lib13</td>\n",
       "      <td>268C13</td>\n",
       "      <td>796</td>\n",
       "      <td>abneg</td>\n",
       "      <td>escape</td>\n",
       "      <td>expt3-268C13-796-abneg</td>\n",
       "      <td>NaN</td>\n",
       "      <td>510290.0</td>\n",
       "      <td>0.146</td>\n",
       "      <td>expt3-268C13-796-abneg_lib13</td>\n",
       "      <td>results/counts/Wuhan_Hu_1/expt3-268C13-796-abneg_lib13_counts.csv</td>\n",
       "      <td>results/counts/Wuhan_Hu_1/expt3-268C13-796-abneg_lib13_fates.csv</td>\n",
       "    </tr>\n",
       "    <tr>\n",
       "      <td>220816</td>\n",
       "      <td>expt4</td>\n",
       "      <td>Wuhan_Hu_1</td>\n",
       "      <td>lib12</td>\n",
       "      <td>268C61</td>\n",
       "      <td>147</td>\n",
       "      <td>abneg</td>\n",
       "      <td>escape</td>\n",
       "      <td>expt4-268C61-147-abneg</td>\n",
       "      <td>NaN</td>\n",
       "      <td>189167.0</td>\n",
       "      <td>0.054</td>\n",
       "      <td>expt4-268C61-147-abneg_lib12</td>\n",
       "      <td>results/counts/Wuhan_Hu_1/expt4-268C61-147-abneg_lib12_counts.csv</td>\n",
       "      <td>results/counts/Wuhan_Hu_1/expt4-268C61-147-abneg_lib12_fates.csv</td>\n",
       "    </tr>\n",
       "    <tr>\n",
       "      <td>220816</td>\n",
       "      <td>expt4</td>\n",
       "      <td>Wuhan_Hu_1</td>\n",
       "      <td>lib13</td>\n",
       "      <td>268C61</td>\n",
       "      <td>147</td>\n",
       "      <td>abneg</td>\n",
       "      <td>escape</td>\n",
       "      <td>expt4-268C61-147-abneg</td>\n",
       "      <td>NaN</td>\n",
       "      <td>133696.0</td>\n",
       "      <td>0.060</td>\n",
       "      <td>expt4-268C61-147-abneg_lib13</td>\n",
       "      <td>results/counts/Wuhan_Hu_1/expt4-268C61-147-abneg_lib13_counts.csv</td>\n",
       "      <td>results/counts/Wuhan_Hu_1/expt4-268C61-147-abneg_lib13_fates.csv</td>\n",
       "    </tr>\n",
       "  </tbody>\n",
       "</table>"
      ],
      "text/plain": [
       "<IPython.core.display.HTML object>"
      ]
     },
     "metadata": {},
     "output_type": "display_data"
    }
   ],
   "source": [
    "print(f\"Reading list of barcode runs from {config['barcode_runs_Wuhan_Hu_1']}\")\n",
    "\n",
    "barcode_runs = (pd.read_csv(config['barcode_runs_Wuhan_Hu_1'])\n",
    "                .assign(sample_lib=lambda x: x['sample'] + '_' + x['library'],\n",
    "                        counts_file=lambda x: config['counts_dir_Wuhan_Hu_1'] + '/' + x['sample_lib'] + '_counts.csv',\n",
    "                        fates_file=lambda x: config['counts_dir_Wuhan_Hu_1'] + '/' + x['sample_lib'] + '_fates.csv',\n",
    "                        )\n",
    "                .drop(columns='R1')  # don't need this column, and very large\n",
    "                )\n",
    "\n",
    "assert all(map(os.path.isfile, barcode_runs['counts_file'])), 'missing some counts files'\n",
    "assert all(map(os.path.isfile, barcode_runs['fates_file'])), 'missing some fates files'\n",
    "\n",
    "display(HTML(barcode_runs.to_html(index=False)))"
   ]
  },
  {
   "cell_type": "markdown",
   "metadata": {},
   "source": [
    "Confirm sample / library combinations unique:"
   ]
  },
  {
   "cell_type": "code",
   "execution_count": 9,
   "metadata": {
    "execution": {
     "iopub.execute_input": "2022-11-26T23:03:01.411930Z",
     "iopub.status.busy": "2022-11-26T23:03:01.410613Z",
     "iopub.status.idle": "2022-11-26T23:03:01.417643Z",
     "shell.execute_reply": "2022-11-26T23:03:01.417035Z"
    }
   },
   "outputs": [],
   "source": [
    "assert len(barcode_runs) == len(barcode_runs.groupby(['sample', 'library']))"
   ]
  },
  {
   "cell_type": "markdown",
   "metadata": {},
   "source": [
    "Make sure the the libraries for which we have barcode runs are all in our variant table:"
   ]
  },
  {
   "cell_type": "code",
   "execution_count": 10,
   "metadata": {
    "execution": {
     "iopub.execute_input": "2022-11-26T23:03:01.422720Z",
     "iopub.status.busy": "2022-11-26T23:03:01.421418Z",
     "iopub.status.idle": "2022-11-26T23:03:01.426702Z",
     "shell.execute_reply": "2022-11-26T23:03:01.426120Z"
    }
   },
   "outputs": [],
   "source": [
    "unknown_libs = set(barcode_runs['library']) - set(variants.libraries)\n",
    "if unknown_libs:\n",
    "    raise ValueError(f\"Libraries with barcode runs not in variant table: {unknown_libs}\")"
   ]
  },
  {
   "cell_type": "markdown",
   "metadata": {},
   "source": [
    "Now concatenate the barcode counts and fates for each sample:"
   ]
  },
  {
   "cell_type": "code",
   "execution_count": 11,
   "metadata": {
    "execution": {
     "iopub.execute_input": "2022-11-26T23:03:01.431701Z",
     "iopub.status.busy": "2022-11-26T23:03:01.430439Z",
     "iopub.status.idle": "2022-11-26T23:03:01.821502Z",
     "shell.execute_reply": "2022-11-26T23:03:01.820822Z"
    }
   },
   "outputs": [
    {
     "name": "stdout",
     "output_type": "stream",
     "text": [
      "First few lines of counts data frame:\n"
     ]
    },
    {
     "data": {
      "text/html": [
       "<table border=\"1\" class=\"dataframe\">\n",
       "  <thead>\n",
       "    <tr style=\"text-align: right;\">\n",
       "      <th>barcode</th>\n",
       "      <th>count</th>\n",
       "      <th>library</th>\n",
       "      <th>sample</th>\n",
       "    </tr>\n",
       "  </thead>\n",
       "  <tbody>\n",
       "    <tr>\n",
       "      <td>GAAACAAATTTCTATA</td>\n",
       "      <td>8243</td>\n",
       "      <td>lib12</td>\n",
       "      <td>exptREF-none-0-ref</td>\n",
       "    </tr>\n",
       "    <tr>\n",
       "      <td>GACTATCGAATTATTG</td>\n",
       "      <td>6851</td>\n",
       "      <td>lib12</td>\n",
       "      <td>exptREF-none-0-ref</td>\n",
       "    </tr>\n",
       "    <tr>\n",
       "      <td>GGCAAGAATCCTTTAA</td>\n",
       "      <td>6711</td>\n",
       "      <td>lib12</td>\n",
       "      <td>exptREF-none-0-ref</td>\n",
       "    </tr>\n",
       "    <tr>\n",
       "      <td>TTAAAAGCAACCGACC</td>\n",
       "      <td>6615</td>\n",
       "      <td>lib12</td>\n",
       "      <td>exptREF-none-0-ref</td>\n",
       "    </tr>\n",
       "    <tr>\n",
       "      <td>AATGAACCCAAAACAA</td>\n",
       "      <td>6582</td>\n",
       "      <td>lib12</td>\n",
       "      <td>exptREF-none-0-ref</td>\n",
       "    </tr>\n",
       "  </tbody>\n",
       "</table>"
      ],
      "text/plain": [
       "<IPython.core.display.HTML object>"
      ]
     },
     "metadata": {},
     "output_type": "display_data"
    },
    {
     "name": "stdout",
     "output_type": "stream",
     "text": [
      "First few lines of fates data frame:\n"
     ]
    },
    {
     "data": {
      "text/html": [
       "<table border=\"1\" class=\"dataframe\">\n",
       "  <thead>\n",
       "    <tr style=\"text-align: right;\">\n",
       "      <th>fate</th>\n",
       "      <th>count</th>\n",
       "      <th>library</th>\n",
       "      <th>sample</th>\n",
       "    </tr>\n",
       "  </thead>\n",
       "  <tbody>\n",
       "    <tr>\n",
       "      <td>valid barcode</td>\n",
       "      <td>34835181</td>\n",
       "      <td>lib12</td>\n",
       "      <td>exptREF-none-0-ref</td>\n",
       "    </tr>\n",
       "    <tr>\n",
       "      <td>invalid barcode</td>\n",
       "      <td>10353115</td>\n",
       "      <td>lib12</td>\n",
       "      <td>exptREF-none-0-ref</td>\n",
       "    </tr>\n",
       "    <tr>\n",
       "      <td>low quality barcode</td>\n",
       "      <td>6392772</td>\n",
       "      <td>lib12</td>\n",
       "      <td>exptREF-none-0-ref</td>\n",
       "    </tr>\n",
       "    <tr>\n",
       "      <td>unparseable barcode</td>\n",
       "      <td>753252</td>\n",
       "      <td>lib12</td>\n",
       "      <td>exptREF-none-0-ref</td>\n",
       "    </tr>\n",
       "    <tr>\n",
       "      <td>failed chastity filter</td>\n",
       "      <td>0</td>\n",
       "      <td>lib12</td>\n",
       "      <td>exptREF-none-0-ref</td>\n",
       "    </tr>\n",
       "  </tbody>\n",
       "</table>"
      ],
      "text/plain": [
       "<IPython.core.display.HTML object>"
      ]
     },
     "metadata": {},
     "output_type": "display_data"
    }
   ],
   "source": [
    "counts = pd.concat([pd.read_csv(f) for f in barcode_runs['counts_file']],\n",
    "                   sort=False,\n",
    "                   ignore_index=True)\n",
    "\n",
    "print('First few lines of counts data frame:')\n",
    "display(HTML(counts.head().to_html(index=False)))\n",
    "\n",
    "fates = pd.concat([pd.read_csv(f) for f in barcode_runs['fates_file']],\n",
    "                  sort=False,\n",
    "                  ignore_index=True)\n",
    "\n",
    "print('First few lines of fates data frame:')\n",
    "display(HTML(fates.head().to_html(index=False)))"
   ]
  },
  {
   "cell_type": "markdown",
   "metadata": {},
   "source": [
    "## Examine fates of parsed barcodes\n",
    "First, we'll analyze the \"fates\" of the parsed barcodes.\n",
    "These fates represent what happened to each Illumina read we parsed:\n",
    " - Did the barcode read fail the Illumina chastity filter?\n",
    " - Was the barcode *unparseable* (i.e., the read didn't appear to be a valid barcode based on flanking regions)?\n",
    " - Was the barcode sequence too *low quality* based on the Illumina quality scores?\n",
    " - Was the barcode parseable but *invalid* (i.e., not in our list of variant-associated barcodes in the codon variant table)?\n",
    " - Was the barcode *valid*, and so will be added to variant counts.\n",
    " \n",
    "First, we just write a CSV file with all the barcode fates:"
   ]
  },
  {
   "cell_type": "code",
   "execution_count": 12,
   "metadata": {
    "execution": {
     "iopub.execute_input": "2022-11-26T23:03:01.826888Z",
     "iopub.status.busy": "2022-11-26T23:03:01.825541Z",
     "iopub.status.idle": "2022-11-26T23:03:01.840988Z",
     "shell.execute_reply": "2022-11-26T23:03:01.840247Z"
    }
   },
   "outputs": [
    {
     "name": "stdout",
     "output_type": "stream",
     "text": [
      "Writing barcode fates to results/counts/Wuhan_Hu_1/barcode_fates.csv\n"
     ]
    }
   ],
   "source": [
    "fatesfile = os.path.join(config['counts_dir_Wuhan_Hu_1'], 'barcode_fates.csv')\n",
    "print(f\"Writing barcode fates to {fatesfile}\")\n",
    "fates.to_csv(fatesfile, index=False)"
   ]
  },
  {
   "cell_type": "markdown",
   "metadata": {},
   "source": [
    "Next, we tabulate the barcode fates in wide format:"
   ]
  },
  {
   "cell_type": "code",
   "execution_count": 13,
   "metadata": {
    "execution": {
     "iopub.execute_input": "2022-11-26T23:03:01.846989Z",
     "iopub.status.busy": "2022-11-26T23:03:01.845398Z",
     "iopub.status.idle": "2022-11-26T23:03:01.863658Z",
     "shell.execute_reply": "2022-11-26T23:03:01.863062Z"
    }
   },
   "outputs": [
    {
     "data": {
      "text/html": [
       "<table border=\"1\" class=\"dataframe\">\n",
       "  <thead>\n",
       "    <tr style=\"text-align: right;\">\n",
       "      <th></th>\n",
       "      <th>fate</th>\n",
       "      <th>failed chastity filter</th>\n",
       "      <th>invalid barcode</th>\n",
       "      <th>low quality barcode</th>\n",
       "      <th>unparseable barcode</th>\n",
       "      <th>valid barcode</th>\n",
       "    </tr>\n",
       "    <tr>\n",
       "      <th>sample</th>\n",
       "      <th>library</th>\n",
       "      <th></th>\n",
       "      <th></th>\n",
       "      <th></th>\n",
       "      <th></th>\n",
       "      <th></th>\n",
       "    </tr>\n",
       "  </thead>\n",
       "  <tbody>\n",
       "    <tr>\n",
       "      <th rowspan=\"2\" valign=\"top\">expt2-268C3-352-abneg</th>\n",
       "      <th>lib12</th>\n",
       "      <td>0.0e+00</td>\n",
       "      <td>2.7e+05</td>\n",
       "      <td>1.9e+05</td>\n",
       "      <td>2.0e+04</td>\n",
       "      <td>8.4e+05</td>\n",
       "    </tr>\n",
       "    <tr>\n",
       "      <th>lib13</th>\n",
       "      <td>0.0e+00</td>\n",
       "      <td>2.1e+05</td>\n",
       "      <td>1.7e+05</td>\n",
       "      <td>1.3e+04</td>\n",
       "      <td>8.0e+05</td>\n",
       "    </tr>\n",
       "    <tr>\n",
       "      <th rowspan=\"2\" valign=\"top\">expt3-268C13-796-abneg</th>\n",
       "      <th>lib12</th>\n",
       "      <td>0.0e+00</td>\n",
       "      <td>6.9e+05</td>\n",
       "      <td>5.0e+05</td>\n",
       "      <td>5.1e+04</td>\n",
       "      <td>2.3e+06</td>\n",
       "    </tr>\n",
       "    <tr>\n",
       "      <th>lib13</th>\n",
       "      <td>0.0e+00</td>\n",
       "      <td>6.4e+05</td>\n",
       "      <td>5.5e+05</td>\n",
       "      <td>5.0e+04</td>\n",
       "      <td>2.6e+06</td>\n",
       "    </tr>\n",
       "    <tr>\n",
       "      <th rowspan=\"2\" valign=\"top\">expt4-268C61-147-abneg</th>\n",
       "      <th>lib12</th>\n",
       "      <td>0.0e+00</td>\n",
       "      <td>2.0e+05</td>\n",
       "      <td>1.4e+05</td>\n",
       "      <td>1.4e+04</td>\n",
       "      <td>6.5e+05</td>\n",
       "    </tr>\n",
       "    <tr>\n",
       "      <th>lib13</th>\n",
       "      <td>0.0e+00</td>\n",
       "      <td>1.3e+05</td>\n",
       "      <td>1.1e+05</td>\n",
       "      <td>9.5e+03</td>\n",
       "      <td>5.2e+05</td>\n",
       "    </tr>\n",
       "    <tr>\n",
       "      <th rowspan=\"2\" valign=\"top\">exptREF-none-0-ref</th>\n",
       "      <th>lib12</th>\n",
       "      <td>0.0e+00</td>\n",
       "      <td>1.0e+07</td>\n",
       "      <td>6.4e+06</td>\n",
       "      <td>7.5e+05</td>\n",
       "      <td>3.5e+07</td>\n",
       "    </tr>\n",
       "    <tr>\n",
       "      <th>lib13</th>\n",
       "      <td>0.0e+00</td>\n",
       "      <td>8.6e+06</td>\n",
       "      <td>6.0e+06</td>\n",
       "      <td>6.1e+05</td>\n",
       "      <td>3.4e+07</td>\n",
       "    </tr>\n",
       "  </tbody>\n",
       "</table>"
      ],
      "text/plain": [
       "<IPython.core.display.HTML object>"
      ]
     },
     "metadata": {},
     "output_type": "display_data"
    }
   ],
   "source": [
    "display(HTML(fates\n",
    "             .pivot_table(columns='fate',\n",
    "                          values='count',\n",
    "                          index=['sample', 'library'])\n",
    "             .applymap('{:.1e}'.format)  # scientific notation\n",
    "             .to_html()\n",
    "             ))"
   ]
  },
  {
   "cell_type": "markdown",
   "metadata": {},
   "source": [
    "Now we plot the barcode-read fates for each library / sample, showing the bars for valid barcodes in orange and the others in gray.\n",
    "We see that the largest fraction of barcode reads correspond to valid barcodes, and most of the others are invalid barcodes (probably because the map to variants that aren't present in our variant table since we didn't associate all variants with barcodes). The exception to this is lib2 Titeseq_03_bin3; the PCR for this sample in the original sequencing run failed, so we followed it up with a single MiSeq lane. We did not filter out the PhiX reads from this data before parsing, so these PhiX reads will deflate the fraction of valid barcode reads as expected, but does not indicate any problems."
   ]
  },
  {
   "cell_type": "code",
   "execution_count": 14,
   "metadata": {
    "execution": {
     "iopub.execute_input": "2022-11-26T23:03:01.868840Z",
     "iopub.status.busy": "2022-11-26T23:03:01.867505Z",
     "iopub.status.idle": "2022-11-26T23:03:03.428903Z",
     "shell.execute_reply": "2022-11-26T23:03:03.428143Z"
    }
   },
   "outputs": [
    {
     "data": {
      "image/png": "[encoded data removed]",
      "text/plain": [
       "<Figure size 432x288 with 8 Axes>"
      ]
     },
     "metadata": {
      "needs_background": "light"
     },
     "output_type": "display_data"
    }
   ],
   "source": [
    "ncol = 4\n",
    "nfacets = len(fates.groupby(['sample', 'library']))\n",
    "\n",
    "barcode_fate_plot = (\n",
    "    ggplot(\n",
    "        fates\n",
    "        .assign(sample=lambda x: pd.Categorical(x['sample'],\n",
    "                                                x['sample'].unique(),\n",
    "                                                ordered=True),\n",
    "                fate=lambda x: pd.Categorical(x['fate'],\n",
    "                                              x['fate'].unique(),\n",
    "                                              ordered=True),\n",
    "                is_valid=lambda x: x['fate'] == 'valid barcode'\n",
    "                ), \n",
    "        aes('fate', 'count', fill='is_valid')) +\n",
    "    geom_bar(stat='identity') +\n",
    "    facet_wrap('~ sample + library', ncol=ncol) +\n",
    "    scale_fill_manual(CBPALETTE, guide=False) +\n",
    "    theme(figure_size=(3.25 * ncol, 2 * math.ceil(nfacets / ncol)),\n",
    "          axis_text_x=element_text(angle=90),\n",
    "          panel_grid_major_x=element_blank()\n",
    "          ) +\n",
    "    scale_y_continuous(labels=dms_variants.utils.latex_sci_not,\n",
    "                       name='number of reads')\n",
    "    )\n",
    "\n",
    "_ = barcode_fate_plot.draw()"
   ]
  },
  {
   "cell_type": "markdown",
   "metadata": {},
   "source": [
    "## Add barcode counts to variant table\n",
    "Now we use the [CodonVariantTable.add_sample_counts_df](https://jbloomlab.github.io/dms_variants/dms_variants.codonvarianttable.html#dms_variants.codonvarianttable.CodonVariantTable.add_sample_counts_df) method to add the barcode counts to the variant table:"
   ]
  },
  {
   "cell_type": "code",
   "execution_count": 15,
   "metadata": {
    "execution": {
     "iopub.execute_input": "2022-11-26T23:03:03.434777Z",
     "iopub.status.busy": "2022-11-26T23:03:03.433339Z",
     "iopub.status.idle": "2022-11-26T23:03:04.533830Z",
     "shell.execute_reply": "2022-11-26T23:03:04.533288Z"
    }
   },
   "outputs": [],
   "source": [
    "variants.add_sample_counts_df(counts)"
   ]
  },
  {
   "cell_type": "markdown",
   "metadata": {},
   "source": [
    "The variant table now has a `variant_count_df` attribute that gives a data frame of all the variant counts.\n",
    "Here are the first few lines:"
   ]
  },
  {
   "cell_type": "code",
   "execution_count": 16,
   "metadata": {
    "execution": {
     "iopub.execute_input": "2022-11-26T23:03:04.538463Z",
     "iopub.status.busy": "2022-11-26T23:03:04.537267Z",
     "iopub.status.idle": "2022-11-26T23:03:04.547532Z",
     "shell.execute_reply": "2022-11-26T23:03:04.546957Z"
    }
   },
   "outputs": [
    {
     "data": {
      "text/html": [
       "<table border=\"1\" class=\"dataframe\">\n",
       "  <thead>\n",
       "    <tr style=\"text-align: right;\">\n",
       "      <th>target</th>\n",
       "      <th>library</th>\n",
       "      <th>sample</th>\n",
       "      <th>barcode</th>\n",
       "      <th>count</th>\n",
       "      <th>variant_call_support</th>\n",
       "      <th>codon_substitutions</th>\n",
       "      <th>aa_substitutions</th>\n",
       "      <th>n_codon_substitutions</th>\n",
       "      <th>n_aa_substitutions</th>\n",
       "    </tr>\n",
       "  </thead>\n",
       "  <tbody>\n",
       "    <tr>\n",
       "      <td>Wuhan_Hu_1</td>\n",
       "      <td>lib12</td>\n",
       "      <td>exptREF-none-0-ref</td>\n",
       "      <td>GAAACAAATTTCTATA</td>\n",
       "      <td>8243</td>\n",
       "      <td>16</td>\n",
       "      <td>GTA52GGT</td>\n",
       "      <td>V52G</td>\n",
       "      <td>1</td>\n",
       "      <td>1</td>\n",
       "    </tr>\n",
       "    <tr>\n",
       "      <td>Wuhan_Hu_1</td>\n",
       "      <td>lib12</td>\n",
       "      <td>exptREF-none-0-ref</td>\n",
       "      <td>GACTATCGAATTATTG</td>\n",
       "      <td>6851</td>\n",
       "      <td>10</td>\n",
       "      <td>AAG48TCT</td>\n",
       "      <td>K48S</td>\n",
       "      <td>1</td>\n",
       "      <td>1</td>\n",
       "    </tr>\n",
       "    <tr>\n",
       "      <td>Wuhan_Hu_1</td>\n",
       "      <td>lib12</td>\n",
       "      <td>exptREF-none-0-ref</td>\n",
       "      <td>GGCAAGAATCCTTTAA</td>\n",
       "      <td>6711</td>\n",
       "      <td>10</td>\n",
       "      <td>GAC34CAA</td>\n",
       "      <td>D34Q</td>\n",
       "      <td>1</td>\n",
       "      <td>1</td>\n",
       "    </tr>\n",
       "    <tr>\n",
       "      <td>Wuhan_Hu_1</td>\n",
       "      <td>lib12</td>\n",
       "      <td>exptREF-none-0-ref</td>\n",
       "      <td>TTAAAAGCAACCGACC</td>\n",
       "      <td>6615</td>\n",
       "      <td>12</td>\n",
       "      <td>TCT36CAT</td>\n",
       "      <td>S36H</td>\n",
       "      <td>1</td>\n",
       "      <td>1</td>\n",
       "    </tr>\n",
       "    <tr>\n",
       "      <td>Wuhan_Hu_1</td>\n",
       "      <td>lib12</td>\n",
       "      <td>exptREF-none-0-ref</td>\n",
       "      <td>AATGAACCCAAAACAA</td>\n",
       "      <td>6582</td>\n",
       "      <td>18</td>\n",
       "      <td>AGA16TTT</td>\n",
       "      <td>R16F</td>\n",
       "      <td>1</td>\n",
       "      <td>1</td>\n",
       "    </tr>\n",
       "  </tbody>\n",
       "</table>"
      ],
      "text/plain": [
       "<IPython.core.display.HTML object>"
      ]
     },
     "metadata": {},
     "output_type": "display_data"
    }
   ],
   "source": [
    "display(HTML(variants.variant_count_df.head().to_html(index=False)))"
   ]
  },
  {
   "cell_type": "markdown",
   "metadata": {},
   "source": [
    "Write the variant counts data frame to a CSV file.\n",
    "It can then be used to re-initialize a [CodonVariantTable](https://jbloomlab.github.io/dms_variants/dms_variants.codonvarianttable.html#dms_variants.codonvarianttable.CodonVariantTable) via its [from_variant_count_df](https://jbloomlab.github.io/dms_variants/dms_variants.codonvarianttable.html#dms_variants.codonvarianttable.CodonVariantTable.from_variant_count_df) method:"
   ]
  },
  {
   "cell_type": "code",
   "execution_count": 17,
   "metadata": {
    "execution": {
     "iopub.execute_input": "2022-11-26T23:03:04.552708Z",
     "iopub.status.busy": "2022-11-26T23:03:04.551337Z",
     "iopub.status.idle": "2022-11-26T23:03:08.689860Z",
     "shell.execute_reply": "2022-11-26T23:03:08.689043Z"
    }
   },
   "outputs": [
    {
     "name": "stdout",
     "output_type": "stream",
     "text": [
      "Writing variant counts to results/counts/Wuhan_Hu_1/variant_counts.csv.gz\n"
     ]
    }
   ],
   "source": [
    "print(f\"Writing variant counts to {config['variant_counts_Wuhan_Hu_1']}\")\n",
    "variants.variant_count_df.to_csv(config['variant_counts_Wuhan_Hu_1'], index=False, compression='gzip')"
   ]
  },
  {
   "cell_type": "markdown",
   "metadata": {},
   "source": [
    "The [CodonVariantTable](https://jbloomlab.github.io/dms_variants/dms_variants.codonvarianttable.html#dms_variants.codonvarianttable.CodonVariantTable) has lots of nice functions that can be used to analyze the counts it contains.\n",
    "However, we do that in the next notebook so we don't have to re-run this entire (rather computationally intensive) notebook every time we want to analyze a new aspect of the counts."
   ]
  }
 ],
 "metadata": {
  "kernelspec": {
   "display_name": "Python 3 (ipykernel)",
   "language": "python",
   "name": "python3"
  },
  "language_info": {
   "codemirror_mode": {
    "name": "ipython",
    "version": 3
   },
   "file_extension": ".py",
   "mimetype": "text/x-python",
   "name": "python",
   "nbconvert_exporter": "python",
   "pygments_lexer": "ipython3",
   "version": "3.8.13"
  }
 },
 "nbformat": 4,
 "nbformat_minor": 4
}
